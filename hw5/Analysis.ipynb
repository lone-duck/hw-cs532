{
 "cells": [
  {
   "cell_type": "markdown",
   "id": "4264d42c",
   "metadata": {},
   "source": [
    "# Homework 5\n",
    "\n",
    "Dylan Green (22420153)\n",
    "\n",
    "Complete code can be found at https://github.com/lone-duck/hw-cs532/tree/main/hw5."
   ]
  },
  {
   "cell_type": "code",
   "execution_count": 1,
   "id": "b501a1d5",
   "metadata": {},
   "outputs": [],
   "source": [
    "from evaluator import evaluate_outer\n",
    "import json\n",
    "import numpy as np\n",
    "import sys\n",
    "import matplotlib.pyplot as plt\n",
    "import torch\n",
    "\n",
    "sys.setrecursionlimit(100000)"
   ]
  },
  {
   "cell_type": "markdown",
   "id": "195f38b3",
   "metadata": {},
   "source": [
    "## Program 0 (Code)"
   ]
  },
  {
   "cell_type": "code",
   "execution_count": null,
   "id": "c6d82a22",
   "metadata": {},
   "outputs": [],
   "source": [
    "## evaluator code\n",
    "def evaluate_outer(e, env=None): #TODO: add sigma, or something\n",
    "    \n",
    "    # create env if it doesn't exist\n",
    "    if env is None:\n",
    "        env = standard_env()\n",
    "\n",
    "    # evaluate, which turns into a single fn\n",
    "    proc = evaluate(e, env)\n",
    "\n",
    "    # call fn with alpha = ''\n",
    "    return proc('')\n",
    "\n",
    "def evaluate(e, env):\n",
    "    #evaluate expression\n",
    "    #base cases\n",
    "    if isinstance(e, (int, float)):\n",
    "        return torch.tensor(float(e))\n",
    "    elif isinstance(e, str):\n",
    "        try:\n",
    "            return env.find(e)[e]\n",
    "        except:\n",
    "            # DEBUGGING LINE\n",
    "            print(\"Could not find \" + e)\n",
    "            return e\n",
    "    # is there another case?\n",
    "    else:\n",
    "        assert isinstance(e, list), \"Found unexpected base case: {}\".format(e)\n",
    "\n",
    "    # recursive cases\n",
    "    op, *args = e\n",
    "    if op == 'fn':\n",
    "        params = args[0]\n",
    "        body = args[1]\n",
    "        return Procedure(params, body, copy.deepcopy(env))\n",
    "    elif op == 'if':\n",
    "        (test, conseq, alt) = args\n",
    "        test_value = evaluate(test, env)\n",
    "        expr = (conseq if test_value else alt)\n",
    "        return evaluate(expr, env)\n",
    "    elif op == 'push-address':\n",
    "        proc = evaluate(op, env)\n",
    "        alpha = evaluate(args[0], env)\n",
    "        value = args[1]\n",
    "        ret_val = proc(alpha, value)\n",
    "        # DEBUGGING LINE\n",
    "        #print(ret_val)\n",
    "        return ret_val\n",
    "    elif op == 'sample':\n",
    "        addr = evaluate(args[0], env)\n",
    "        dist = evaluate(args[1:][0], env)\n",
    "        # make sure it is a distribution object\n",
    "        assert getattr(dist, '__module__', None).split('.')[:2] == ['torch', 'distributions']\n",
    "        return dist.sample()\n",
    "    elif op == 'observe':\n",
    "        addr = evaluate(args[0], env)\n",
    "        dist = evaluate(args[1:][0], env)\n",
    "        # make sure it is a distribution object\n",
    "        assert getattr(dist, '__module__', None).split('.')[:2] == ['torch', 'distributions']\n",
    "        c = evaluate(args[1:][1], env)\n",
    "        return dist.sample()\n",
    "    else:\n",
    "        proc = evaluate(op, env)\n",
    "        addr = args[0]\n",
    "        if isinstance(proc, Procedure):\n",
    "            vals = [evaluate(arg, env) for arg in args]\n",
    "        else:\n",
    "            args = args[1:]\n",
    "            vals = [evaluate(arg, env) for arg in args]\n",
    "            if isinstance(proc, str):\n",
    "                print(proc)\n",
    "                print(vals)\n",
    "        return proc(*vals)\n",
    "\n",
    "\n",
    "# copied from Lispy\n",
    "class Env(dict):\n",
    "    \"An environment: a dict of {'var': val} pairs, with an outer Env.\"\n",
    "    def __init__(self, params=(), args=(), outer=None):\n",
    "        self.update(zip(params, args))\n",
    "        self.outer = outer\n",
    "    def find(self, var):\n",
    "        \"Find the innermost Env where var appears.\"\n",
    "        return self if (var in self) else self.outer.find(var)\n",
    "\n",
    "class Procedure(object):\n",
    "    \"A user-defined Scheme procedure.\"\n",
    "    def __init__(self, params, body, env):\n",
    "        self.params, self.body, self.env = params, body, env\n",
    "    def __call__(self, *args): \n",
    "        # todo: make deep copies?\n",
    "        return evaluate(self.body, Env(self.params, args, self.env))\n",
    "\n",
    "\n",
    "def standard_env():\n",
    "    \n",
    "    env = Env()\n",
    "    env.update(BASE_ENV)\n",
    "    env.update({'alpha' : ''}) \n",
    "\n",
    "    return env\n",
    "\n",
    "## primitives\n",
    "BASE_ENV = {\n",
    "            'push-address' : push_addr,\n",
    "            '+': torch.add,\n",
    "            '-': torch.sub,\n",
    "            '*': torch.mul,\n",
    "            '/': torch.div,\n",
    "            '>': torch.gt,\n",
    "            '<': torch.lt,\n",
    "            '>=': torch.ge,\n",
    "            '<=': torch.le,\n",
    "            '=': torch.eq,\n",
    "            'sqrt': torch.sqrt,\n",
    "            'exp': torch.exp,\n",
    "            'log': torch.log,\n",
    "            'mat-tanh': torch.tanh,\n",
    "            'mat-add': torch.add,\n",
    "            'mat-mul': torch.matmul,\n",
    "            'mat-repmat': mat_repmat,\n",
    "            'vector' : lambda *x: deepcopy(vector_list_creation(x)),\n",
    "            'get': lambda x, y: deepcopy(x[y.long()]) if isinstance(x, torch.Tensor) else deepcopy(x[y.item() if isinstance(y, torch.Tensor) else y]),\n",
    "            'put': lambda x, y, z: deepcopy(torch.cat((x[:y.long()], torch.tensor([z]), x[y.long()+1:]))) if isinstance(x, torch.Tensor) else pure_hashmap_update(x,y,z),\n",
    "            'first' : lambda x: deepcopy(x[0]),\n",
    "            'last' : lambda x: deepcopy(x[-1]),\n",
    "            'append' : lambda x, y: deepcopy(torch.cat((x, torch.tensor([y])))),\n",
    "            'hash-map': lambda *x : deepcopy(dict(zip([i.item() if isinstance(i, torch.Tensor) else i for i in x[::2]], x[1::2]))),\n",
    "            'peek' : lambda x: deepcopy(x[0]),\n",
    "            'empty?' : lambda x: len(x) == 0,\n",
    "            'rest' : deepcopy(lambda x: x[1:]),\n",
    "            'cons' : lambda x, y: cons(x, y),\n",
    "            'conj' : lambda x, y: conj(x, y),\n",
    "            'normal': torch.distributions.Normal,\n",
    "            'beta': torch.distributions.beta.Beta,\n",
    "            'exponential': torch.distributions.exponential.Exponential,\n",
    "            'uniform': torch.distributions.uniform.Uniform,\n",
    "            'uniform-continuous': torch.distributions.uniform.Uniform,\n",
    "            'bernoulli': torch.distributions.bernoulli.Bernoulli,\n",
    "            'flip': torch.distributions.bernoulli.Bernoulli,\n",
    "            'discrete': lambda *x: torch.distributions.categorical.Categorical(x[0])\n",
    "            }"
   ]
  },
  {
   "cell_type": "markdown",
   "id": "6d3412a7",
   "metadata": {},
   "source": [
    "## Program 1"
   ]
  },
  {
   "cell_type": "code",
   "execution_count": 2,
   "id": "e69bd9e0",
   "metadata": {},
   "outputs": [],
   "source": [
    "i = 1\n",
    "with open(\"programs/{}.json\".format(str(i)), 'rb') as f:\n",
    "            exp = json.load(f)"
   ]
  },
  {
   "cell_type": "code",
   "execution_count": 3,
   "id": "65017063",
   "metadata": {},
   "outputs": [],
   "source": [
    "L = 100000\n",
    "results = [None]*L\n",
    "\n",
    "for l in range(L):\n",
    "    results[l] = evaluate_outer(exp).item()"
   ]
  },
  {
   "cell_type": "code",
   "execution_count": 4,
   "id": "b0a6e922",
   "metadata": {},
   "outputs": [
    {
     "name": "stdout",
     "output_type": "stream",
     "text": [
      "Expectation: 99.18208\n"
     ]
    }
   ],
   "source": [
    "results = np.array(results)\n",
    "expectation = np.mean(results)\n",
    "print(\"Expectation: {}\".format(expectation))"
   ]
  },
  {
   "cell_type": "code",
   "execution_count": 5,
   "id": "33100707",
   "metadata": {},
   "outputs": [
    {
     "name": "stdout",
     "output_type": "stream",
     "text": [
      "Variance: 9933.7198668736\n"
     ]
    }
   ],
   "source": [
    "var = np.std(results)**2\n",
    "print(\"Variance: {}\".format(var))"
   ]
  },
  {
   "cell_type": "code",
   "execution_count": 6,
   "id": "259f9da2",
   "metadata": {},
   "outputs": [
    {
     "name": "stdout",
     "output_type": "stream",
     "text": [
      "\n"
     ]
    },
    {
     "data": {
      "image/png": "[encoded data removed]",
      "text/plain": [
       "<Figure size 432x288 with 1 Axes>"
      ]
     },
     "metadata": {
      "needs_background": "light"
     },
     "output_type": "display_data"
    }
   ],
   "source": [
    "plt.hist(results)\n",
    "print()"
   ]
  },
  {
   "cell_type": "markdown",
   "id": "5cba75be",
   "metadata": {},
   "source": [
    "## Program 2"
   ]
  },
  {
   "cell_type": "code",
   "execution_count": 7,
   "id": "884aef64",
   "metadata": {},
   "outputs": [],
   "source": [
    "i = 2\n",
    "with open(\"programs/{}.json\".format(str(i)), 'rb') as f:\n",
    "            exp = json.load(f)"
   ]
  },
  {
   "cell_type": "code",
   "execution_count": 8,
   "id": "3fd0bb97",
   "metadata": {},
   "outputs": [],
   "source": [
    "L = 100000\n",
    "results = [None]*L\n",
    "\n",
    "for l in range(L):\n",
    "    results[l] = evaluate_outer(exp).item()"
   ]
  },
  {
   "cell_type": "code",
   "execution_count": 9,
   "id": "407f28ac",
   "metadata": {},
   "outputs": [
    {
     "name": "stdout",
     "output_type": "stream",
     "text": [
      "Expectation: 0.984476921248436\n"
     ]
    }
   ],
   "source": [
    "results = np.array(results)\n",
    "expectation = np.mean(results)\n",
    "print(\"Expectation: {}\".format(expectation))"
   ]
  },
  {
   "cell_type": "code",
   "execution_count": 10,
   "id": "00b9d258",
   "metadata": {},
   "outputs": [
    {
     "name": "stdout",
     "output_type": "stream",
     "text": [
      "Variance: 4.987506960226637\n"
     ]
    }
   ],
   "source": [
    "var = np.std(results)**2\n",
    "print(\"Variance: {}\".format(var))"
   ]
  },
  {
   "cell_type": "code",
   "execution_count": 11,
   "id": "98737071",
   "metadata": {},
   "outputs": [
    {
     "name": "stdout",
     "output_type": "stream",
     "text": [
      "\n"
     ]
    },
    {
     "data": {
      "image/png": "[encoded data removed]",
      "text/plain": [
       "<Figure size 432x288 with 1 Axes>"
      ]
     },
     "metadata": {
      "needs_background": "light"
     },
     "output_type": "display_data"
    }
   ],
   "source": [
    "plt.hist(results)\n",
    "print()"
   ]
  },
  {
   "cell_type": "markdown",
   "id": "da656aa5",
   "metadata": {},
   "source": [
    "# Program 3"
   ]
  },
  {
   "cell_type": "code",
   "execution_count": 12,
   "id": "4bccba22",
   "metadata": {},
   "outputs": [],
   "source": [
    "i = 3\n",
    "with open(\"programs/{}.json\".format(str(i)), 'rb') as f:\n",
    "            exp = json.load(f)"
   ]
  },
  {
   "cell_type": "code",
   "execution_count": 13,
   "id": "2a6472ba",
   "metadata": {},
   "outputs": [],
   "source": [
    "L = 10000\n",
    "results = [None]*L\n",
    "\n",
    "for l in range(L):\n",
    "    results[l] = evaluate_outer(exp)\n",
    "    \n",
    "results = torch.stack(results)"
   ]
  },
  {
   "cell_type": "code",
   "execution_count": 14,
   "id": "8911dd9c",
   "metadata": {},
   "outputs": [],
   "source": [
    "results = results.numpy()"
   ]
  },
  {
   "cell_type": "code",
   "execution_count": 15,
   "id": "5e50394b",
   "metadata": {},
   "outputs": [
    {
     "name": "stdout",
     "output_type": "stream",
     "text": [
      "Expectations: [1.0052, 1.4108, 1.4167, 1.4174, 1.4133, 1.4141, 1.4086, 1.4222, 1.4092, 1.4122, 1.4136, 1.4228, 1.4209, 1.4115, 1.4273, 1.4056, 1.4121]\n"
     ]
    }
   ],
   "source": [
    "expectations = np.mean(results, axis=0)\n",
    "print(\"Expectations: {}\".format(list(expectations)))"
   ]
  },
  {
   "cell_type": "code",
   "execution_count": 16,
   "id": "dd56eb9b",
   "metadata": {},
   "outputs": [
    {
     "name": "stdout",
     "output_type": "stream",
     "text": [
      "Variances: [0.6747729599999972, 0.5478433599999987, 0.542661110000006, 0.5427772400000264, 0.5480831100000555, 0.543821189999931, 0.5438460399999762, 0.5463471599999523, 0.5481553600000899, 0.5438911599999773, 0.5389350399999777, 0.5370401600000176, 0.5399431900000441, 0.5509677500000137, 0.5429147099999434, 0.54628863999993, 0.5466735899999106]\n"
     ]
    }
   ],
   "source": [
    "variances = np.std(results, axis=0)**2\n",
    "print(\"Variances: {}\".format(list(variances)))"
   ]
  },
  {
   "cell_type": "code",
   "execution_count": 17,
   "id": "23f309a3",
   "metadata": {},
   "outputs": [
    {
     "data": {
      "text/plain": [
       "Text(0.5, 1.0, 'Histogram for dim=0')"
      ]
     },
     "execution_count": 17,
     "metadata": {},
     "output_type": "execute_result"
    },
    {
     "data": {
      "image/png": "[encoded data removed]",
      "text/plain": [
       "<Figure size 432x288 with 1 Axes>"
      ]
     },
     "metadata": {
      "needs_background": "light"
     },
     "output_type": "display_data"
    }
   ],
   "source": [
    "i = 0\n",
    "plt.hist(results[:, i])\n",
    "plt.xlabel(\"output\")\n",
    "plt.ylabel(\"frequency\")\n",
    "plt.title(\"Histogram for dim={}\".format(i))"
   ]
  },
  {
   "cell_type": "code",
   "execution_count": 18,
   "id": "0a075d8f",
   "metadata": {},
   "outputs": [
    {
     "data": {
      "text/plain": [
       "Text(0.5, 1.0, 'Histogram for dim=1')"
      ]
     },
     "execution_count": 18,
     "metadata": {},
     "output_type": "execute_result"
    },
    {
     "data": {
      "image/png": "[encoded data removed]",
      "text/plain": [
       "<Figure size 432x288 with 1 Axes>"
      ]
     },
     "metadata": {
      "needs_background": "light"
     },
     "output_type": "display_data"
    }
   ],
   "source": [
    "i = 1\n",
    "plt.hist(results[:, i])\n",
    "plt.xlabel(\"output\")\n",
    "plt.ylabel(\"frequency\")\n",
    "plt.title(\"Histogram for dim={}\".format(i))"
   ]
  },
  {
   "cell_type": "code",
   "execution_count": 19,
   "id": "25cdc720",
   "metadata": {},
   "outputs": [
    {
     "data": {
      "text/plain": [
       "Text(0.5, 1.0, 'Histogram for dim=2')"
      ]
     },
     "execution_count": 19,
     "metadata": {},
     "output_type": "execute_result"
    },
    {
     "data": {
      "image/png": "[encoded data removed]",
      "text/plain": [
       "<Figure size 432x288 with 1 Axes>"
      ]
     },
     "metadata": {
      "needs_background": "light"
     },
     "output_type": "display_data"
    }
   ],
   "source": [
    "i = 2\n",
    "plt.hist(results[:, i])\n",
    "plt.xlabel(\"output\")\n",
    "plt.ylabel(\"frequency\")\n",
    "plt.title(\"Histogram for dim={}\".format(i))"
   ]
  },
  {
   "cell_type": "code",
   "execution_count": 20,
   "id": "9250c6bd",
   "metadata": {},
   "outputs": [
    {
     "data": {
      "text/plain": [
       "Text(0.5, 1.0, 'Histogram for dim=3')"
      ]
     },
     "execution_count": 20,
     "metadata": {},
     "output_type": "execute_result"
    },
    {
     "data": {
      "image/png": "[encoded data removed]",
      "text/plain": [
       "<Figure size 432x288 with 1 Axes>"
      ]
     },
     "metadata": {
      "needs_background": "light"
     },
     "output_type": "display_data"
    }
   ],
   "source": [
    "i = 3\n",
    "plt.hist(results[:, i])\n",
    "plt.xlabel(\"output\")\n",
    "plt.ylabel(\"frequency\")\n",
    "plt.title(\"Histogram for dim={}\".format(i))"
   ]
  },
  {
   "cell_type": "code",
   "execution_count": 21,
   "id": "93ccfb07",
   "metadata": {},
   "outputs": [
    {
     "data": {
      "text/plain": [
       "Text(0.5, 1.0, 'Histogram for dim=4')"
      ]
     },
     "execution_count": 21,
     "metadata": {},
     "output_type": "execute_result"
    },
    {
     "data": {
      "image/png": "[encoded data removed]",
      "text/plain": [
       "<Figure size 432x288 with 1 Axes>"
      ]
     },
     "metadata": {
      "needs_background": "light"
     },
     "output_type": "display_data"
    }
   ],
   "source": [
    "i = 4\n",
    "plt.hist(results[:, i])\n",
    "plt.xlabel(\"output\")\n",
    "plt.ylabel(\"frequency\")\n",
    "plt.title(\"Histogram for dim={}\".format(i))"
   ]
  },
  {
   "cell_type": "code",
   "execution_count": 22,
   "id": "54211692",
   "metadata": {},
   "outputs": [
    {
     "data": {
      "text/plain": [
       "Text(0.5, 1.0, 'Histogram for dim=5')"
      ]
     },
     "execution_count": 22,
     "metadata": {},
     "output_type": "execute_result"
    },
    {
     "data": {
      "image/png": "[encoded data removed]",
      "text/plain": [
       "<Figure size 432x288 with 1 Axes>"
      ]
     },
     "metadata": {
      "needs_background": "light"
     },
     "output_type": "display_data"
    }
   ],
   "source": [
    "i = 5\n",
    "plt.hist(results[:, i])\n",
    "plt.xlabel(\"output\")\n",
    "plt.ylabel(\"frequency\")\n",
    "plt.title(\"Histogram for dim={}\".format(i))"
   ]
  },
  {
   "cell_type": "code",
   "execution_count": 23,
   "id": "24dbb242",
   "metadata": {},
   "outputs": [
    {
     "data": {
      "text/plain": [
       "Text(0.5, 1.0, 'Histogram for dim=6')"
      ]
     },
     "execution_count": 23,
     "metadata": {},
     "output_type": "execute_result"
    },
    {
     "data": {
      "image/png": "[encoded data removed]",
      "text/plain": [
       "<Figure size 432x288 with 1 Axes>"
      ]
     },
     "metadata": {
      "needs_background": "light"
     },
     "output_type": "display_data"
    }
   ],
   "source": [
    "i = 6\n",
    "plt.hist(results[:, i])\n",
    "plt.xlabel(\"output\")\n",
    "plt.ylabel(\"frequency\")\n",
    "plt.title(\"Histogram for dim={}\".format(i))"
   ]
  },
  {
   "cell_type": "code",
   "execution_count": 24,
   "id": "702cfa34",
   "metadata": {},
   "outputs": [
    {
     "data": {
      "text/plain": [
       "Text(0.5, 1.0, 'Histogram for dim=7')"
      ]
     },
     "execution_count": 24,
     "metadata": {},
     "output_type": "execute_result"
    },
    {
     "data": {
      "image/png": "[encoded data removed]",
      "text/plain": [
       "<Figure size 432x288 with 1 Axes>"
      ]
     },
     "metadata": {
      "needs_background": "light"
     },
     "output_type": "display_data"
    }
   ],
   "source": [
    "i = 7\n",
    "plt.hist(results[:, i])\n",
    "plt.xlabel(\"output\")\n",
    "plt.ylabel(\"frequency\")\n",
    "plt.title(\"Histogram for dim={}\".format(i))"
   ]
  },
  {
   "cell_type": "code",
   "execution_count": 25,
   "id": "20a743f3",
   "metadata": {},
   "outputs": [
    {
     "data": {
      "text/plain": [
       "Text(0.5, 1.0, 'Histogram for dim=8')"
      ]
     },
     "execution_count": 25,
     "metadata": {},
     "output_type": "execute_result"
    },
    {
     "data": {
      "image/png": "[encoded data removed]",
      "text/plain": [
       "<Figure size 432x288 with 1 Axes>"
      ]
     },
     "metadata": {
      "needs_background": "light"
     },
     "output_type": "display_data"
    }
   ],
   "source": [
    "i = 8\n",
    "plt.hist(results[:, i])\n",
    "plt.xlabel(\"output\")\n",
    "plt.ylabel(\"frequency\")\n",
    "plt.title(\"Histogram for dim={}\".format(i))"
   ]
  },
  {
   "cell_type": "code",
   "execution_count": 26,
   "id": "bafb528e",
   "metadata": {},
   "outputs": [
    {
     "data": {
      "text/plain": [
       "Text(0.5, 1.0, 'Histogram for dim=9')"
      ]
     },
     "execution_count": 26,
     "metadata": {},
     "output_type": "execute_result"
    },
    {
     "data": {
      "image/png": "[encoded data removed]",
      "text/plain": [
       "<Figure size 432x288 with 1 Axes>"
      ]
     },
     "metadata": {
      "needs_background": "light"
     },
     "output_type": "display_data"
    }
   ],
   "source": [
    "i = 9\n",
    "plt.hist(results[:, i])\n",
    "plt.xlabel(\"output\")\n",
    "plt.ylabel(\"frequency\")\n",
    "plt.title(\"Histogram for dim={}\".format(i))"
   ]
  },
  {
   "cell_type": "code",
   "execution_count": 27,
   "id": "657b5d34",
   "metadata": {},
   "outputs": [
    {
     "data": {
      "text/plain": [
       "Text(0.5, 1.0, 'Histogram for dim=10')"
      ]
     },
     "execution_count": 27,
     "metadata": {},
     "output_type": "execute_result"
    },
    {
     "data": {
      "image/png": "[encoded data removed]",
      "text/plain": [
       "<Figure size 432x288 with 1 Axes>"
      ]
     },
     "metadata": {
      "needs_background": "light"
     },
     "output_type": "display_data"
    }
   ],
   "source": [
    "i = 10\n",
    "plt.hist(results[:, i])\n",
    "plt.xlabel(\"output\")\n",
    "plt.ylabel(\"frequency\")\n",
    "plt.title(\"Histogram for dim={}\".format(i))"
   ]
  },
  {
   "cell_type": "code",
   "execution_count": 28,
   "id": "324531cf",
   "metadata": {},
   "outputs": [
    {
     "data": {
      "text/plain": [
       "Text(0.5, 1.0, 'Histogram for dim=11')"
      ]
     },
     "execution_count": 28,
     "metadata": {},
     "output_type": "execute_result"
    },
    {
     "data": {
      "image/png": "[encoded data removed]",
      "text/plain": [
       "<Figure size 432x288 with 1 Axes>"
      ]
     },
     "metadata": {
      "needs_background": "light"
     },
     "output_type": "display_data"
    }
   ],
   "source": [
    "i = 11\n",
    "plt.hist(results[:, i])\n",
    "plt.xlabel(\"output\")\n",
    "plt.ylabel(\"frequency\")\n",
    "plt.title(\"Histogram for dim={}\".format(i))"
   ]
  },
  {
   "cell_type": "code",
   "execution_count": 29,
   "id": "4c37ebaa",
   "metadata": {},
   "outputs": [
    {
     "data": {
      "text/plain": [
       "Text(0.5, 1.0, 'Histogram for dim=12')"
      ]
     },
     "execution_count": 29,
     "metadata": {},
     "output_type": "execute_result"
    },
    {
     "data": {
      "image/png": "[encoded data removed]",
      "text/plain": [
       "<Figure size 432x288 with 1 Axes>"
      ]
     },
     "metadata": {
      "needs_background": "light"
     },
     "output_type": "display_data"
    }
   ],
   "source": [
    "i = 12\n",
    "plt.hist(results[:, i])\n",
    "plt.xlabel(\"output\")\n",
    "plt.ylabel(\"frequency\")\n",
    "plt.title(\"Histogram for dim={}\".format(i))"
   ]
  },
  {
   "cell_type": "code",
   "execution_count": 30,
   "id": "ff22e532",
   "metadata": {},
   "outputs": [
    {
     "data": {
      "text/plain": [
       "Text(0.5, 1.0, 'Histogram for dim=13')"
      ]
     },
     "execution_count": 30,
     "metadata": {},
     "output_type": "execute_result"
    },
    {
     "data": {
      "image/png": "[encoded data removed]",
      "text/plain": [
       "<Figure size 432x288 with 1 Axes>"
      ]
     },
     "metadata": {
      "needs_background": "light"
     },
     "output_type": "display_data"
    }
   ],
   "source": [
    "i = 13\n",
    "plt.hist(results[:, i])\n",
    "plt.xlabel(\"output\")\n",
    "plt.ylabel(\"frequency\")\n",
    "plt.title(\"Histogram for dim={}\".format(i))"
   ]
  },
  {
   "cell_type": "code",
   "execution_count": 31,
   "id": "3c7d4fc8",
   "metadata": {},
   "outputs": [
    {
     "data": {
      "text/plain": [
       "Text(0.5, 1.0, 'Histogram for dim=14')"
      ]
     },
     "execution_count": 31,
     "metadata": {},
     "output_type": "execute_result"
    },
    {
     "data": {
      "image/png": "[encoded data removed]",
      "text/plain": [
       "<Figure size 432x288 with 1 Axes>"
      ]
     },
     "metadata": {
      "needs_background": "light"
     },
     "output_type": "display_data"
    }
   ],
   "source": [
    "i = 14\n",
    "plt.hist(results[:, i])\n",
    "plt.xlabel(\"output\")\n",
    "plt.ylabel(\"frequency\")\n",
    "plt.title(\"Histogram for dim={}\".format(i))"
   ]
  },
  {
   "cell_type": "code",
   "execution_count": 32,
   "id": "f31e0996",
   "metadata": {},
   "outputs": [
    {
     "data": {
      "text/plain": [
       "Text(0.5, 1.0, 'Histogram for dim=15')"
      ]
     },
     "execution_count": 32,
     "metadata": {},
     "output_type": "execute_result"
    },
    {
     "data": {
      "image/png": "[encoded data removed]",
      "text/plain": [
       "<Figure size 432x288 with 1 Axes>"
      ]
     },
     "metadata": {
      "needs_background": "light"
     },
     "output_type": "display_data"
    }
   ],
   "source": [
    "i = 15\n",
    "plt.hist(results[:, i])\n",
    "plt.xlabel(\"output\")\n",
    "plt.ylabel(\"frequency\")\n",
    "plt.title(\"Histogram for dim={}\".format(i))"
   ]
  },
  {
   "cell_type": "code",
   "execution_count": 33,
   "id": "813278d0",
   "metadata": {},
   "outputs": [
    {
     "data": {
      "text/plain": [
       "Text(0.5, 1.0, 'Histogram for dim=16')"
      ]
     },
     "execution_count": 33,
     "metadata": {},
     "output_type": "execute_result"
    },
    {
     "data": {
      "image/png": "[encoded data removed]",
      "text/plain": [
       "<Figure size 432x288 with 1 Axes>"
      ]
     },
     "metadata": {
      "needs_background": "light"
     },
     "output_type": "display_data"
    }
   ],
   "source": [
    "i = 16\n",
    "plt.hist(results[:, i])\n",
    "plt.xlabel(\"output\")\n",
    "plt.ylabel(\"frequency\")\n",
    "plt.title(\"Histogram for dim={}\".format(i))"
   ]
  }
 ],
 "metadata": {
  "kernelspec": {
   "display_name": "Python 3 (ipykernel)",
   "language": "python",
   "name": "python3"
  },
  "language_info": {
   "codemirror_mode": {
    "name": "ipython",
    "version": 3
   },
   "file_extension": ".py",
   "mimetype": "text/x-python",
   "name": "python",
   "nbconvert_exporter": "python",
   "pygments_lexer": "ipython3",
   "version": "3.8.5"
  }
 },
 "nbformat": 4,
 "nbformat_minor": 5
}
