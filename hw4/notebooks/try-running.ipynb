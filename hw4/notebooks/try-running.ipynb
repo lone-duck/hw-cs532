{
 "cells": [
  {
   "cell_type": "code",
   "execution_count": 24,
   "id": "f25dbcd5",
   "metadata": {},
   "outputs": [],
   "source": [
    "import torch \n",
    "from primitives import eval_env\n",
    "from graph_utils import topological_sort\n",
    "import distributions\n",
    "\n",
    "ENV = eval_env()\n",
    "\n",
    "import json\n",
    "\n",
    "f = open('graphs/p1.json', 'rb')\n",
    "g1 = json.load(f)\n",
    "f.close()\n",
    "f = open('graphs/p2.json', 'rb')\n",
    "g2 = json.load(f)\n",
    "f.close()\n",
    "f = open('graphs/p3_hw3.json', 'rb')\n",
    "g3 = json.load(f)\n",
    "f.close()\n",
    "f = open('graphs/p4.json', 'rb')\n",
    "g4 = json.load(f)\n",
    "f.close()\n",
    "\n"
   ]
  },
  {
   "cell_type": "code",
   "execution_count": 23,
   "id": "f1dc7a6b",
   "metadata": {},
   "outputs": [],
   "source": [
    "# black box variation inference\n",
    "\n",
    "import torch \n",
    "from primitives import eval_env\n",
    "from graph_utils import topological_sort\n",
    "import datetime\n",
    "import wandb\n",
    "import time\n",
    "import numpy as np\n",
    "\n",
    "ENV = eval_env()\n",
    "\n",
    "def init_Q(graph):\n",
    "    \"\"\"\n",
    "    Initialize proposal distributions for bbvi\n",
    "    Args:\n",
    "        graph: graph dictionary\n",
    "    Output:\n",
    "        a dictionary Q containing initial proposal distributions\n",
    "    \"\"\"\n",
    "\n",
    "    # get contents of graph\n",
    "    fn_defs = graph[0]\n",
    "    V = graph[1]['V']\n",
    "    A = graph[1]['A']\n",
    "    P = graph[1]['P']\n",
    "    Y = graph[1]['Y']\n",
    "    ret_vals = graph[2]    \n",
    "\n",
    "    # deal with fn_defs\n",
    "    global ENV\n",
    "    ENV = eval_env()\n",
    "    for defn in fn_defs.items():\n",
    "        f_name = defn[0]\n",
    "        f_v_is = defn[1][1]\n",
    "        f_expr = defn[1][2]\n",
    "        ENV.update({f_name: (f_v_is, f_expr)})\n",
    "\n",
    "    # get sorted V\n",
    "    sorted_V = topological_sort(A, V)\n",
    "\n",
    "    Q = {}\n",
    "\n",
    "    # find each q in order\n",
    "    l = {}\n",
    "    for v in sorted_V:\n",
    "        task, expr = P[v][0], P[v][1]\n",
    "        if task == \"sample*\":\n",
    "            dist, _ = deterministic_evaluate(expr, l)\n",
    "            l.update({v: dist.sample()})\n",
    "            q = make_q(dist)\n",
    "            Q.update({v: q})\n",
    "        \n",
    "    return Q\n",
    "\n",
    "\n",
    "def make_q(d):\n",
    "    \n",
    "    # create a new q:\n",
    "    if type(d) == torch.distributions.bernoulli.Bernoulli:\n",
    "        probs = d.probs.clone().detach()\n",
    "        q = distributions.Bernoulli(probs = probs)\n",
    "    elif type(d) == torch.distributions.categorical.Categorical:\n",
    "        probs = d.probs.clone().detach()\n",
    "        q = distributions.Categorical(probs=probs)\n",
    "    elif type(d) == torch.distributions.normal.Normal:\n",
    "        loc = d.loc.clone().detach() \n",
    "        scale = d.scale.clone().detach()\n",
    "        q = distributions.Normal(loc=loc, scale=scale)\n",
    "    elif type(d) == torch.distributions.gamma.Gamma:\n",
    "        concentration = d.concentration.clone().detach()\n",
    "        rate = d.rate.clone().detach()\n",
    "        q = distributions.Gamma(concentration=concentration, rate=rate)\n",
    "    elif type(d) == torch.distributions.dirichlet.Dirichlet:\n",
    "        concentration = d.concentration.clone().detach()\n",
    "        q = distributions.Dirichlet(concentration=concentration)\n",
    "    else:\n",
    "        assert False, \"Unknown distribution type: {}\".format(type(d))\n",
    "\n",
    "    return q\n",
    "\n",
    "\n",
    "def bbvi_train(graph, T, L, base_string, Q=None, time_based=False, time_T=3600, lr=0.1, no_b=False, logging=True):\n",
    "    \"\"\"\n",
    "    Trains BBVI proposal distributions.\n",
    "    Args:\n",
    "        graph: the graph denoting the problem\n",
    "        T: number of outer training loops\n",
    "        L: number of samples to use in gradient estimate\n",
    "        Q: proposal distributions to start from... allows for \n",
    "           continuation of training from previously trained Q\n",
    "    Returns:\n",
    "        a new dictionary Q containing learned proposals\n",
    "    \"\"\"\n",
    "\n",
    "    best_elbo = -np.inf\n",
    "    \n",
    "    if time_based:\n",
    "        start = time.time()\n",
    "    project_name = base_string\n",
    "    if logging:\n",
    "        wandb.init(project=project_name, entity=\"lone-duck\")\n",
    "\n",
    "    if Q is None:\n",
    "        Q = init_Q(graph)\n",
    "\n",
    "    # set up ENV\n",
    "    fn_defs = graph[0]\n",
    "    global ENV\n",
    "    ENV = eval_env()\n",
    "    for defn in fn_defs.items():\n",
    "        f_name = defn[0]\n",
    "        f_v_is = defn[1][1]\n",
    "        f_expr = defn[1][2]\n",
    "        ENV.update({f_name: (f_v_is, f_expr)})\n",
    "\n",
    "    # get P, Y, sorted V\n",
    "    P = graph[1]['P']\n",
    "    V = graph[1]['V']\n",
    "    Y = {k: torch.tensor(v).float() for k, v in graph[1]['Y'].items()}\n",
    "    Xkeys = list(set(V) - set(Y.keys()))\n",
    "    sorted_V = topological_sort(graph[1]['A'], V)\n",
    "\n",
    "    # for t iterations, or for time_T seconds\n",
    "    for t in range(T):\n",
    "        # initiliaze lists for logW, G\n",
    "        logWs = [None]*L\n",
    "        Gs = [None]*L\n",
    "        # \"evaluate\", i.e. sample from proposal and get logWs, Gs\n",
    "        for l in range(L):\n",
    "            logWs[l], Gs[l] = evaluation(P, Q, Y, sorted_V)\n",
    "        # compute noisy elbo gradients\n",
    "        g = elbo_gradients(logWs, Gs, L, Xkeys, no_b)\n",
    "        # compute elbo\n",
    "        elbo = torch.mean(torch.stack(logWs))\n",
    "        if elbo > best_elbo:\n",
    "            best_Q = Q\n",
    "            best_elbo = elbo\n",
    "            print(\"new best elbo: {}\".format(elbo.item()))\n",
    "        \n",
    "        # do an update\n",
    "        Q = update_Q(Q, g, t+1, lr)\n",
    "        if logging:\n",
    "            wandb.log({\"ELBO\": elbo})\n",
    "        if time_based:\n",
    "            if time.time() - start > time_T:\n",
    "                break\n",
    "\n",
    "    return best_Q\n",
    "\n",
    "\n",
    "def update_Q(Q, g, t, lr):\n",
    "\n",
    "    alpha = lr/torch.sqrt(torch.tensor(1.0*t))\n",
    "    new_Q = {}\n",
    "\n",
    "    for v in Q.keys():\n",
    "        old_params = Q[v].Parameters()\n",
    "        gradient = g[v]\n",
    "        new_params = [(p + alpha*grad).clone().detach() for p, grad in zip(old_params, gradient)]\n",
    "        new_Q[v] = type(Q[v])(*new_params, copy=True)\n",
    "\n",
    "    return new_Q\n",
    "\n",
    "    \n",
    "def elbo_gradients(logWs, Gs, L, Xkeys, no_b):\n",
    "\n",
    "    g = {}\n",
    "\n",
    "    for v in Xkeys:\n",
    "        # compute Fv's, Gv's for this v\n",
    "        Fv = [None]*L\n",
    "        Gv = [None]*L\n",
    "        for l in range(L):\n",
    "            if v in Gs[l]:\n",
    "                Fv[l] = torch.stack(Gs[l][v]) * logWs[l]\n",
    "                Gv[l] = torch.stack(Gs[l][v])\n",
    "            else:\n",
    "                Fv[l], Gv[l] = torch.tensor(0.), torch.tensor(0.)\n",
    "        # both of shape (L, G.size())\n",
    "        Fv = torch.stack(Fv)\n",
    "        Gv = torch.stack(Gv)\n",
    "        # compute b for this v\n",
    "        if no_b:\n",
    "            b = 0\n",
    "        else:\n",
    "            b = compute_b(Fv, Gv)\n",
    "        g[v] = torch.sum(Fv - b*Gv, dim=0)/L\n",
    "\n",
    "    return g\n",
    "\n",
    "def compute_b(F, G):\n",
    "    \n",
    "    assert F.dim() < 3, \"Need to ensure things work for higher dimensions\"\n",
    "    assert G.dim() < 3, \"Need to ensure things work for higher dimensions\"\n",
    "\n",
    "    L, d = F.size()\n",
    "\n",
    "    if d == 1:\n",
    "        num = torch.sum((F - torch.mean(F))*(G - torch.mean(G)))/(L-1)\n",
    "        den = torch.std(G)**2\n",
    "    else:\n",
    "        num = torch.tensor(0.)\n",
    "        den = torch.tensor(0.)\n",
    "        for i in range(d):\n",
    "            num += torch.sum((F[:,i] - torch.mean(F[:,i]))*(G[:,i] - torch.mean(G[:,i])))/(L-1)\n",
    "            den += torch.std(G[:,i])**2\n",
    "\n",
    "    return num/den \n",
    "\n",
    "\n",
    "def evaluation(P, Q, Y, sorted_V):\n",
    "    logW = 0\n",
    "    G = {}\n",
    "    l = {}\n",
    "    for v in sorted_V:\n",
    "        task, expr = P[v][0], P[v][1]\n",
    "        if task == \"sample*\":\n",
    "            # get prior dist\n",
    "            d, _ = deterministic_evaluate(expr, l)\n",
    "            # get proposal and grad-able proposal\n",
    "            q = Q[v]\n",
    "            q_with_grad = q.make_copy_with_grads()\n",
    "            # take sample from proposal and add to l\n",
    "            c = q.sample()\n",
    "            l.update({v: c})\n",
    "            # update logW\n",
    "            with torch.no_grad():\n",
    "                logW += d.log_prob(c) - q.log_prob(c)\n",
    "            # get gradient\n",
    "            log_prob_q = q_with_grad.log_prob(c)\n",
    "            log_prob_q.backward()\n",
    "            G[v] = [param.grad for param in q_with_grad.Parameters()]\n",
    "        elif task == \"observe*\":\n",
    "            # get prior dist, add log prob of observation to logW\n",
    "            d, _ = deterministic_evaluate(expr, l)\n",
    "            c = Y[v]\n",
    "            with torch.no_grad():\n",
    "                logW += d.log_prob(c)\n",
    "            \n",
    "    return logW, G\n",
    "\n",
    "\n",
    "def deterministic_evaluate(e, l, sig=None):\n",
    "    # variable reference OR procedure OR just a string\n",
    "    if isinstance(e, str):        \n",
    "        # global procedures take precedence over locally defined vars\n",
    "        if e in ENV:\n",
    "            return ENV[e], sig\n",
    "        elif e in l:\n",
    "            return l[e], sig\n",
    "        # could allow for hashmaps with string keys; for debugging setting this to fail\n",
    "        else:\n",
    "            assert False, \"Unknown symbol: {}\".format(e)\n",
    "    # constant number\n",
    "    elif isinstance(e, (int, float)):   \n",
    "        return torch.tensor(float(e)), sig\n",
    "    # if statements\n",
    "    elif e[0] == 'if':\n",
    "        (_, test, conseq, alt) = e\n",
    "        exp = (conseq if deterministic_evaluate(test, l)[0] else alt)\n",
    "        return deterministic_evaluate(exp, l)\n",
    "    # let statements\n",
    "    elif e[0] == 'let':\n",
    "        # get symbol\n",
    "        symbol = e[1][0]\n",
    "        # get value of e1\n",
    "        value, _ = deterministic_evaluate(e[1][1], l)\n",
    "        # evaluate e2 with value \n",
    "        return deterministic_evaluate(e[2], {**l, symbol: value})\n",
    "    # sample statement\n",
    "    if e[0] == 'sample':\n",
    "        dist = deterministic_evaluate(e[1], l)[0]\n",
    "        # make sure it is a distribution object\n",
    "        assert getattr(dist, '__module__', None).split('.')[:2] == ['torch', 'distributions']\n",
    "        return dist.sample(), sig\n",
    "    # obsere statements\n",
    "    # TODO: change this, maybe in this hw or for hw3\n",
    "    if e[0] == 'observe':\n",
    "        dist = deterministic_evaluate(e[1], l)[0] # get dist\n",
    "        y = deterministic_evaluate(e[2], l)[0]    # get observed value\n",
    "        # make sure it is a distribution object\n",
    "        assert getattr(dist, '__module__', None).split('.')[:2] == ['torch', 'distributions']\n",
    "        # TODO: do something with observed value\n",
    "        return dist.sample(), sig\n",
    "    # procedure call, either primitive or user-defined\n",
    "    else:\n",
    "        result = deterministic_evaluate(e[0], l)\n",
    "        proc, sig = result\n",
    "        # primitives are functions\n",
    "        if callable(proc):\n",
    "            args = [deterministic_evaluate(arg, l)[0] for arg in e[1:]]\n",
    "            result, sig = proc(*args), sig\n",
    "            return result, sig\n",
    "        # user defined functions are not\n",
    "        else:\n",
    "            # as written in algorithm 6\n",
    "            v_is, e0 = proc \n",
    "            assert(len(v_is) == len(e[1:]))\n",
    "            c_is = [deterministic_evaluate(arg, l)[0] for arg in e[1:]]\n",
    "            l_proc = dict(zip(v_is, c_is))\n",
    "            return deterministic_evaluate(e0, {**l, **l_proc})\n",
    "\n"
   ]
  },
  {
   "cell_type": "code",
   "execution_count": 16,
   "id": "d061f534",
   "metadata": {},
   "outputs": [
    {
     "name": "stdout",
     "output_type": "stream",
     "text": [
      "\n",
      "Iteration: 0\n",
      "Xs:\n",
      "mean of logWX\n",
      "-4.891833305358887\n",
      "max of logWX\n",
      "1.5829049348831177\n",
      "min of logWX\n",
      "-33.8731575012207\n",
      "Ys:\n",
      "mean of logWY\n",
      "-110693.1015625\n",
      "max of logWY\n",
      "-11.218883514404297\n",
      "min of logWX\n",
      "-4585668.0\n",
      "new best elbo:\n",
      "tensor(-110697.9922)\n",
      "\n",
      "Iteration: 1\n",
      "Xs:\n",
      "mean of logWX\n",
      "-2.1422218414075837e+30\n",
      "max of logWX\n",
      "-1.924517724232744e+30\n",
      "min of logWX\n",
      "-2.4389934850784064e+30\n",
      "Ys:\n",
      "mean of logWY\n",
      "-inf\n",
      "max of logWY\n",
      "-467.44989013671875\n",
      "min of logWX\n",
      "-inf\n"
     ]
    },
    {
     "ename": "RuntimeError",
     "evalue": "invalid multinomial distribution (encountering probability entry < 0)",
     "output_type": "error",
     "traceback": [
      "\u001b[0;31m---------------------------------------------------------------------------\u001b[0m",
      "\u001b[0;31mRuntimeError\u001b[0m                              Traceback (most recent call last)",
      "\u001b[0;32m/var/folders/84/hh1frbdd4_13nl9fvrj3hsnr0000gn/T/ipykernel_24446/3829270363.py\u001b[0m in \u001b[0;36m<module>\u001b[0;34m\u001b[0m\n\u001b[0;32m----> 1\u001b[0;31m Q3 = bbvi_train(g3, T=10000, L=100, base_string=\"haha\", time_based=True, \\\n\u001b[0m\u001b[1;32m      2\u001b[0m                 time_T=10*60, lr=0.001, no_b=True, logging=False)\n",
      "\u001b[0;32m/var/folders/84/hh1frbdd4_13nl9fvrj3hsnr0000gn/T/ipykernel_24446/1149051506.py\u001b[0m in \u001b[0;36mbbvi_train\u001b[0;34m(graph, T, L, base_string, Q, time_based, time_T, lr, no_b, logging)\u001b[0m\n\u001b[1;32m    131\u001b[0m         \u001b[0;31m# \"evaluate\", i.e. sample from proposal and get logWs, Gs\u001b[0m\u001b[0;34m\u001b[0m\u001b[0;34m\u001b[0m\u001b[0;34m\u001b[0m\u001b[0m\n\u001b[1;32m    132\u001b[0m         \u001b[0;32mfor\u001b[0m \u001b[0ml\u001b[0m \u001b[0;32min\u001b[0m \u001b[0mrange\u001b[0m\u001b[0;34m(\u001b[0m\u001b[0mL\u001b[0m\u001b[0;34m)\u001b[0m\u001b[0;34m:\u001b[0m\u001b[0;34m\u001b[0m\u001b[0;34m\u001b[0m\u001b[0m\n\u001b[0;32m--> 133\u001b[0;31m             \u001b[0mlogWs\u001b[0m\u001b[0;34m[\u001b[0m\u001b[0ml\u001b[0m\u001b[0;34m]\u001b[0m\u001b[0;34m,\u001b[0m \u001b[0mGs\u001b[0m\u001b[0;34m[\u001b[0m\u001b[0ml\u001b[0m\u001b[0;34m]\u001b[0m\u001b[0;34m,\u001b[0m \u001b[0mlogWXs\u001b[0m\u001b[0;34m[\u001b[0m\u001b[0ml\u001b[0m\u001b[0;34m]\u001b[0m\u001b[0;34m,\u001b[0m \u001b[0mlogWYs\u001b[0m\u001b[0;34m[\u001b[0m\u001b[0ml\u001b[0m\u001b[0;34m]\u001b[0m \u001b[0;34m=\u001b[0m \u001b[0mevaluation\u001b[0m\u001b[0;34m(\u001b[0m\u001b[0mP\u001b[0m\u001b[0;34m,\u001b[0m \u001b[0mQ\u001b[0m\u001b[0;34m,\u001b[0m \u001b[0mY\u001b[0m\u001b[0;34m,\u001b[0m \u001b[0msorted_V\u001b[0m\u001b[0;34m)\u001b[0m\u001b[0;34m\u001b[0m\u001b[0;34m\u001b[0m\u001b[0m\n\u001b[0m\u001b[1;32m    134\u001b[0m         \u001b[0mdebug_program_3\u001b[0m\u001b[0;34m(\u001b[0m\u001b[0mlogWXs\u001b[0m\u001b[0;34m,\u001b[0m \u001b[0mlogWYs\u001b[0m\u001b[0;34m,\u001b[0m \u001b[0mt\u001b[0m\u001b[0;34m)\u001b[0m\u001b[0;34m\u001b[0m\u001b[0;34m\u001b[0m\u001b[0m\n\u001b[1;32m    135\u001b[0m         \u001b[0;31m# compute noisy elbo gradients\u001b[0m\u001b[0;34m\u001b[0m\u001b[0;34m\u001b[0m\u001b[0;34m\u001b[0m\u001b[0m\n",
      "\u001b[0;32m/var/folders/84/hh1frbdd4_13nl9fvrj3hsnr0000gn/T/ipykernel_24446/1149051506.py\u001b[0m in \u001b[0;36mevaluation\u001b[0;34m(P, Q, Y, sorted_V)\u001b[0m\n\u001b[1;32m    249\u001b[0m             \u001b[0mq_with_grad\u001b[0m \u001b[0;34m=\u001b[0m \u001b[0mq\u001b[0m\u001b[0;34m.\u001b[0m\u001b[0mmake_copy_with_grads\u001b[0m\u001b[0;34m(\u001b[0m\u001b[0;34m)\u001b[0m\u001b[0;34m\u001b[0m\u001b[0;34m\u001b[0m\u001b[0m\n\u001b[1;32m    250\u001b[0m             \u001b[0;31m# take sample from proposal and add to l\u001b[0m\u001b[0;34m\u001b[0m\u001b[0;34m\u001b[0m\u001b[0;34m\u001b[0m\u001b[0m\n\u001b[0;32m--> 251\u001b[0;31m             \u001b[0mc\u001b[0m \u001b[0;34m=\u001b[0m \u001b[0mq\u001b[0m\u001b[0;34m.\u001b[0m\u001b[0msample\u001b[0m\u001b[0;34m(\u001b[0m\u001b[0;34m)\u001b[0m\u001b[0;34m\u001b[0m\u001b[0;34m\u001b[0m\u001b[0m\n\u001b[0m\u001b[1;32m    252\u001b[0m             \u001b[0ml\u001b[0m\u001b[0;34m.\u001b[0m\u001b[0mupdate\u001b[0m\u001b[0;34m(\u001b[0m\u001b[0;34m{\u001b[0m\u001b[0mv\u001b[0m\u001b[0;34m:\u001b[0m \u001b[0mc\u001b[0m\u001b[0;34m}\u001b[0m\u001b[0;34m)\u001b[0m\u001b[0;34m\u001b[0m\u001b[0;34m\u001b[0m\u001b[0m\n\u001b[1;32m    253\u001b[0m             \u001b[0;31m# update logW\u001b[0m\u001b[0;34m\u001b[0m\u001b[0;34m\u001b[0m\u001b[0;34m\u001b[0m\u001b[0m\n",
      "\u001b[0;32m~/opt/anaconda3/lib/python3.8/site-packages/torch/distributions/categorical.py\u001b[0m in \u001b[0;36msample\u001b[0;34m(self, sample_shape)\u001b[0m\n\u001b[1;32m    105\u001b[0m             \u001b[0msample_shape\u001b[0m \u001b[0;34m=\u001b[0m \u001b[0mtorch\u001b[0m\u001b[0;34m.\u001b[0m\u001b[0mSize\u001b[0m\u001b[0;34m(\u001b[0m\u001b[0msample_shape\u001b[0m\u001b[0;34m)\u001b[0m\u001b[0;34m\u001b[0m\u001b[0;34m\u001b[0m\u001b[0m\n\u001b[1;32m    106\u001b[0m         \u001b[0mprobs_2d\u001b[0m \u001b[0;34m=\u001b[0m \u001b[0mself\u001b[0m\u001b[0;34m.\u001b[0m\u001b[0mprobs\u001b[0m\u001b[0;34m.\u001b[0m\u001b[0mreshape\u001b[0m\u001b[0;34m(\u001b[0m\u001b[0;34m-\u001b[0m\u001b[0;36m1\u001b[0m\u001b[0;34m,\u001b[0m \u001b[0mself\u001b[0m\u001b[0;34m.\u001b[0m\u001b[0m_num_events\u001b[0m\u001b[0;34m)\u001b[0m\u001b[0;34m\u001b[0m\u001b[0;34m\u001b[0m\u001b[0m\n\u001b[0;32m--> 107\u001b[0;31m         \u001b[0msamples_2d\u001b[0m \u001b[0;34m=\u001b[0m \u001b[0mtorch\u001b[0m\u001b[0;34m.\u001b[0m\u001b[0mmultinomial\u001b[0m\u001b[0;34m(\u001b[0m\u001b[0mprobs_2d\u001b[0m\u001b[0;34m,\u001b[0m \u001b[0msample_shape\u001b[0m\u001b[0;34m.\u001b[0m\u001b[0mnumel\u001b[0m\u001b[0;34m(\u001b[0m\u001b[0;34m)\u001b[0m\u001b[0;34m,\u001b[0m \u001b[0;32mTrue\u001b[0m\u001b[0;34m)\u001b[0m\u001b[0;34m.\u001b[0m\u001b[0mT\u001b[0m\u001b[0;34m\u001b[0m\u001b[0;34m\u001b[0m\u001b[0m\n\u001b[0m\u001b[1;32m    108\u001b[0m         \u001b[0;32mreturn\u001b[0m \u001b[0msamples_2d\u001b[0m\u001b[0;34m.\u001b[0m\u001b[0mreshape\u001b[0m\u001b[0;34m(\u001b[0m\u001b[0mself\u001b[0m\u001b[0;34m.\u001b[0m\u001b[0m_extended_shape\u001b[0m\u001b[0;34m(\u001b[0m\u001b[0msample_shape\u001b[0m\u001b[0;34m)\u001b[0m\u001b[0;34m)\u001b[0m\u001b[0;34m\u001b[0m\u001b[0;34m\u001b[0m\u001b[0m\n\u001b[1;32m    109\u001b[0m \u001b[0;34m\u001b[0m\u001b[0m\n",
      "\u001b[0;31mRuntimeError\u001b[0m: invalid multinomial distribution (encountering probability entry < 0)"
     ]
    }
   ],
   "source": [
    "Q3 = bbvi_train(g3, T=10000, L=100, base_string=\"haha\", time_based=True, \\\n",
    "                time_T=10*60, lr=0.001, no_b=True, logging=False)"
   ]
  },
  {
   "cell_type": "code",
   "execution_count": 26,
   "id": "04542fcb",
   "metadata": {},
   "outputs": [
    {
     "name": "stdout",
     "output_type": "stream",
     "text": [
      "sample3\n",
      "Gamma(concentration: 1.0, rate: 0.9999999403953552)\n",
      "sample1\n",
      "Gamma(concentration: 1.0, rate: 0.9999999403953552)\n",
      "sample2\n",
      "Normal(loc: 0.0, scale: 10.0)\n",
      "sample4\n",
      "Normal(loc: 0.0, scale: 10.0)\n",
      "sample6\n",
      "Dirichlet(concentration: torch.Size([3]))\n",
      "sample11\n",
      "Categorical(logits: torch.Size([3]))\n",
      "sample13\n",
      "Categorical(logits: torch.Size([3]))\n",
      "sample19\n",
      "Categorical(logits: torch.Size([3]))\n",
      "sample15\n",
      "Categorical(logits: torch.Size([3]))\n",
      "sample9\n",
      "Categorical(logits: torch.Size([3]))\n",
      "sample7\n",
      "Categorical(logits: torch.Size([3]))\n",
      "sample17\n",
      "Categorical(logits: torch.Size([3]))\n",
      "sample0\n",
      "Normal(loc: 0.0, scale: 10.0)\n",
      "sample5\n",
      "Gamma(concentration: 1.0, rate: 0.9999999403953552)\n"
     ]
    }
   ],
   "source": [
    "Q = init_Q(g3)\n",
    "for key, value in Q.items():\n",
    "    print(key)\n",
    "    print(value)"
   ]
  },
  {
   "cell_type": "code",
   "execution_count": 27,
   "id": "fc53c614",
   "metadata": {},
   "outputs": [
    {
     "name": "stdout",
     "output_type": "stream",
     "text": [
      "sample3\n",
      "Gamma(concentration: 10.0, rate: 0.9999999403953552)\n",
      "sample1\n",
      "Gamma(concentration: 10.0, rate: 0.9999999403953552)\n",
      "sample2\n",
      "Normal(loc: 0.0, scale: 10.0)\n",
      "sample4\n",
      "Normal(loc: 0.0, scale: 10.0)\n",
      "sample6\n",
      "Dirichlet(concentration: torch.Size([3]))\n",
      "sample11\n",
      "Categorical(logits: torch.Size([3]))\n",
      "sample13\n",
      "Categorical(logits: torch.Size([3]))\n",
      "sample19\n",
      "Categorical(logits: torch.Size([3]))\n",
      "sample15\n",
      "Categorical(logits: torch.Size([3]))\n",
      "sample9\n",
      "Categorical(logits: torch.Size([3]))\n",
      "sample7\n",
      "Categorical(logits: torch.Size([3]))\n",
      "sample17\n",
      "Categorical(logits: torch.Size([3]))\n",
      "sample0\n",
      "Normal(loc: 0.0, scale: 10.0)\n",
      "sample5\n",
      "Gamma(concentration: 10.0, rate: 0.9999999403953552)\n"
     ]
    }
   ],
   "source": [
    "alpha = torch.tensor(10.)\n",
    "beta = torch.tensor(1.)\n",
    "Q['sample3'] = distributions.Gamma(alpha, beta)\n",
    "Q['sample1'] = distributions.Gamma(alpha, beta)\n",
    "Q['sample5'] = distributions.Gamma(alpha, beta)\n",
    "for key, value in Q.items():\n",
    "    print(key)\n",
    "    print(value)"
   ]
  },
  {
   "cell_type": "code",
   "execution_count": 29,
   "id": "cd9cbcfd",
   "metadata": {},
   "outputs": [
    {
     "data": {
      "text/html": [
       "\n",
       "                    Syncing run <strong><a href=\"https://wandb.ai/lone-duck/program-3-workingi-think/runs/w7c7tiog\" target=\"_blank\">easy-sun-1</a></strong> to <a href=\"https://wandb.ai/lone-duck/program-3-workingi-think\" target=\"_blank\">Weights & Biases</a> (<a href=\"https://docs.wandb.com/integrations/jupyter.html\" target=\"_blank\">docs</a>).<br/>\n",
       "\n",
       "                "
      ],
      "text/plain": [
       "<IPython.core.display.HTML object>"
      ]
     },
     "metadata": {},
     "output_type": "display_data"
    },
    {
     "name": "stdout",
     "output_type": "stream",
     "text": [
      "new best elbo: -54.2967414855957\n",
      "new best elbo: -47.37205505371094\n",
      "new best elbo: -46.908111572265625\n",
      "new best elbo: -46.227821350097656\n",
      "new best elbo: -45.91982650756836\n",
      "new best elbo: -45.1109619140625\n",
      "new best elbo: -45.01436996459961\n",
      "new best elbo: -44.99113845825195\n",
      "new best elbo: -44.721702575683594\n",
      "new best elbo: -43.193580627441406\n",
      "new best elbo: -43.021026611328125\n",
      "new best elbo: -42.897735595703125\n",
      "new best elbo: -42.81101608276367\n",
      "new best elbo: -42.2492790222168\n",
      "new best elbo: -42.17620849609375\n"
     ]
    }
   ],
   "source": [
    "Q3 = bbvi_train(g3, T=10000, L=1000, base_string=\"program-3-workingi-think\", Q=Q,  time_based=True, \\\n",
    "                time_T=10*60, lr=0.1, no_b=True, logging=True)"
   ]
  },
  {
   "cell_type": "code",
   "execution_count": 30,
   "id": "c014df3a",
   "metadata": {},
   "outputs": [
    {
     "data": {
      "text/html": [
       "Finishing last run (ID:w7c7tiog) before initializing another..."
      ],
      "text/plain": [
       "<IPython.core.display.HTML object>"
      ]
     },
     "metadata": {},
     "output_type": "display_data"
    },
    {
     "data": {
      "text/html": [
       "<br/>Waiting for W&B process to finish, PID 24639... <strong style=\"color:green\">(success).</strong>"
      ],
      "text/plain": [
       "<IPython.core.display.HTML object>"
      ]
     },
     "metadata": {},
     "output_type": "display_data"
    },
    {
     "data": {
      "application/vnd.jupyter.widget-view+json": {
       "model_id": "",
       "version_major": 2,
       "version_minor": 0
      },
      "text/plain": [
       "VBox(children=(Label(value=' 0.00MB of 0.00MB uploaded (0.00MB deduped)\\r'), FloatProgress(value=1.0, max=1.0)…"
      ]
     },
     "metadata": {},
     "output_type": "display_data"
    },
    {
     "data": {
      "text/html": [
       "<style>\n",
       "    table.wandb td:nth-child(1) { padding: 0 10px; text-align: right }\n",
       "    .wandb-row { display: flex; flex-direction: row; flex-wrap: wrap; width: 100% }\n",
       "    .wandb-col { display: flex; flex-direction: column; flex-basis: 100%; flex: 1; padding: 10px; }\n",
       "    </style>\n",
       "<div class=\"wandb-row\"><div class=\"wandb-col\">\n",
       "<h3>Run history:</h3><br/><table class=\"wandb\"><tr><td>ELBO</td><td>▁▅▆▆▆▆▆▆▆▇▇▇▇▇▆▇▇▇▇▇▇▇▇▇▇▇██▇█▇█████▇█▇█</td></tr></table><br/></div><div class=\"wandb-col\">\n",
       "<h3>Run summary:</h3><br/><table class=\"wandb\"><tr><td>ELBO</td><td>-43.0001</td></tr></table>\n",
       "</div></div>\n",
       "Synced 6 W&B file(s), 0 media file(s), 0 artifact file(s) and 0 other file(s)\n",
       "<br/>Synced <strong style=\"color:#cdcd00\">easy-sun-1</strong>: <a href=\"https://wandb.ai/lone-duck/program-3-workingi-think/runs/w7c7tiog\" target=\"_blank\">https://wandb.ai/lone-duck/program-3-workingi-think/runs/w7c7tiog</a><br/>\n",
       "Find logs at: <code>./wandb/run-20211104_180531-w7c7tiog/logs</code><br/>\n"
      ],
      "text/plain": [
       "<IPython.core.display.HTML object>"
      ]
     },
     "metadata": {},
     "output_type": "display_data"
    },
    {
     "data": {
      "text/html": [
       "Successfully finished last run (ID:w7c7tiog). Initializing new run:<br/>"
      ],
      "text/plain": [
       "<IPython.core.display.HTML object>"
      ]
     },
     "metadata": {},
     "output_type": "display_data"
    },
    {
     "data": {
      "text/html": [
       "\n",
       "                    Syncing run <strong><a href=\"https://wandb.ai/lone-duck/program-3-for-real/runs/gj7e1frd\" target=\"_blank\">stilted-shape-1</a></strong> to <a href=\"https://wandb.ai/lone-duck/program-3-for-real\" target=\"_blank\">Weights & Biases</a> (<a href=\"https://docs.wandb.com/integrations/jupyter.html\" target=\"_blank\">docs</a>).<br/>\n",
       "\n",
       "                "
      ],
      "text/plain": [
       "<IPython.core.display.HTML object>"
      ]
     },
     "metadata": {},
     "output_type": "display_data"
    },
    {
     "name": "stdout",
     "output_type": "stream",
     "text": [
      "new best elbo: -54.12262725830078\n",
      "new best elbo: -49.41806411743164\n",
      "new best elbo: -48.05881881713867\n",
      "new best elbo: -47.204193115234375\n",
      "new best elbo: -47.1398811340332\n",
      "new best elbo: -46.136531829833984\n",
      "new best elbo: -45.60818099975586\n",
      "new best elbo: -45.54535675048828\n",
      "new best elbo: -45.35262680053711\n",
      "new best elbo: -45.2760009765625\n",
      "new best elbo: -44.29511642456055\n",
      "new best elbo: -43.80609130859375\n",
      "new best elbo: -43.663204193115234\n",
      "new best elbo: -43.190738677978516\n",
      "new best elbo: -43.10811233520508\n",
      "new best elbo: -42.590362548828125\n",
      "new best elbo: -42.29479217529297\n",
      "new best elbo: -42.29214096069336\n",
      "new best elbo: -42.19688034057617\n",
      "new best elbo: -41.78074645996094\n",
      "new best elbo: -41.583656311035156\n",
      "new best elbo: -41.40888214111328\n",
      "new best elbo: -40.95470428466797\n",
      "new best elbo: -40.914371490478516\n",
      "new best elbo: -40.54847717285156\n",
      "new best elbo: -40.12153244018555\n",
      "new best elbo: -40.092140197753906\n",
      "new best elbo: -40.07582092285156\n",
      "new best elbo: -39.98765182495117\n",
      "new best elbo: -39.962955474853516\n",
      "new best elbo: -39.93928909301758\n",
      "new best elbo: -39.93629455566406\n",
      "new best elbo: -39.88843536376953\n",
      "new best elbo: -39.711971282958984\n",
      "new best elbo: -39.523033142089844\n",
      "new best elbo: -39.26350021362305\n",
      "new best elbo: -39.136165618896484\n",
      "new best elbo: -39.04128646850586\n",
      "new best elbo: -38.92939376831055\n",
      "new best elbo: -38.87416458129883\n",
      "new best elbo: -38.83297348022461\n",
      "new best elbo: -38.56256103515625\n",
      "new best elbo: -38.538394927978516\n",
      "new best elbo: -38.521095275878906\n",
      "new best elbo: -38.36735916137695\n",
      "new best elbo: -38.025882720947266\n",
      "new best elbo: -37.87808609008789\n",
      "new best elbo: -37.556617736816406\n",
      "new best elbo: -37.510616302490234\n",
      "new best elbo: -37.005374908447266\n",
      "new best elbo: -36.80148696899414\n",
      "new best elbo: -36.710113525390625\n",
      "new best elbo: -36.47776412963867\n",
      "new best elbo: -36.34218215942383\n",
      "new best elbo: -36.320892333984375\n",
      "new best elbo: -36.25802230834961\n",
      "new best elbo: -36.11457061767578\n"
     ]
    }
   ],
   "source": [
    "Q3 = bbvi_train(g3, T=10000, L=1000, base_string=\"program-3-for-real\", Q=Q,  time_based=True, \\\n",
    "                time_T=60*60, lr=0.1, no_b=True, logging=True)"
   ]
  },
  {
   "cell_type": "code",
   "execution_count": 31,
   "id": "183aaccc",
   "metadata": {},
   "outputs": [],
   "source": [
    "import pickle"
   ]
  },
  {
   "cell_type": "code",
   "execution_count": 32,
   "id": "6427acf2",
   "metadata": {},
   "outputs": [],
   "source": [
    "with open(\"pickles/Q3\", 'wb') as f:\n",
    "    pickle.dump(Q3, f)"
   ]
  },
  {
   "cell_type": "markdown",
   "id": "d3e108e1",
   "metadata": {},
   "source": [
    "# Program 4"
   ]
  },
  {
   "cell_type": "code",
   "execution_count": 34,
   "id": "ebe624eb",
   "metadata": {},
   "outputs": [
    {
     "data": {
      "text/html": [
       "Finishing last run (ID:gj7e1frd) before initializing another..."
      ],
      "text/plain": [
       "<IPython.core.display.HTML object>"
      ]
     },
     "metadata": {},
     "output_type": "display_data"
    },
    {
     "data": {
      "text/html": [
       "<br/>Waiting for W&B process to finish, PID 24702... <strong style=\"color:green\">(success).</strong>"
      ],
      "text/plain": [
       "<IPython.core.display.HTML object>"
      ]
     },
     "metadata": {},
     "output_type": "display_data"
    },
    {
     "data": {
      "application/vnd.jupyter.widget-view+json": {
       "model_id": "",
       "version_major": 2,
       "version_minor": 0
      },
      "text/plain": [
       "VBox(children=(Label(value=' 0.00MB of 0.00MB uploaded (0.00MB deduped)\\r'), FloatProgress(value=1.0, max=1.0)…"
      ]
     },
     "metadata": {},
     "output_type": "display_data"
    },
    {
     "data": {
      "text/html": [
       "<style>\n",
       "    table.wandb td:nth-child(1) { padding: 0 10px; text-align: right }\n",
       "    .wandb-row { display: flex; flex-direction: row; flex-wrap: wrap; width: 100% }\n",
       "    .wandb-col { display: flex; flex-direction: column; flex-basis: 100%; flex: 1; padding: 10px; }\n",
       "    </style>\n",
       "<div class=\"wandb-row\"><div class=\"wandb-col\">\n",
       "<h3>Run history:</h3><br/><table class=\"wandb\"><tr><td>ELBO</td><td>▁▁▂▂▃▃▃▄▄▄▄▄▅▄▅▅▅▅▅▅▅▆▆▆▇▆▆▇▇▇▇▇▇▇▇▇▇█▇█</td></tr></table><br/></div><div class=\"wandb-col\">\n",
       "<h3>Run summary:</h3><br/><table class=\"wandb\"><tr><td>ELBO</td><td>-36.56314</td></tr></table>\n",
       "</div></div>\n",
       "Synced 6 W&B file(s), 0 media file(s), 0 artifact file(s) and 0 other file(s)\n",
       "<br/>Synced <strong style=\"color:#cdcd00\">stilted-shape-1</strong>: <a href=\"https://wandb.ai/lone-duck/program-3-for-real/runs/gj7e1frd\" target=\"_blank\">https://wandb.ai/lone-duck/program-3-for-real/runs/gj7e1frd</a><br/>\n",
       "Find logs at: <code>./wandb/run-20211104_182034-gj7e1frd/logs</code><br/>\n"
      ],
      "text/plain": [
       "<IPython.core.display.HTML object>"
      ]
     },
     "metadata": {},
     "output_type": "display_data"
    },
    {
     "data": {
      "text/html": [
       "Successfully finished last run (ID:gj7e1frd). Initializing new run:<br/>"
      ],
      "text/plain": [
       "<IPython.core.display.HTML object>"
      ]
     },
     "metadata": {},
     "output_type": "display_data"
    },
    {
     "data": {
      "text/html": [
       "\n",
       "                    Syncing run <strong><a href=\"https://wandb.ai/lone-duck/program-4-first-attempt/runs/5x1ro634\" target=\"_blank\">giddy-sunset-1</a></strong> to <a href=\"https://wandb.ai/lone-duck/program-4-first-attempt\" target=\"_blank\">Weights & Biases</a> (<a href=\"https://docs.wandb.com/integrations/jupyter.html\" target=\"_blank\">docs</a>).<br/>\n",
       "\n",
       "                "
      ],
      "text/plain": [
       "<IPython.core.display.HTML object>"
      ]
     },
     "metadata": {},
     "output_type": "display_data"
    },
    {
     "name": "stdout",
     "output_type": "stream",
     "text": [
      "new best elbo: -494.9900207519531\n",
      "new best elbo: -478.92364501953125\n",
      "new best elbo: -474.1729431152344\n",
      "new best elbo: -473.4201354980469\n",
      "new best elbo: -468.9661560058594\n",
      "new best elbo: -467.98541259765625\n",
      "new best elbo: -465.643798828125\n",
      "new best elbo: -464.61077880859375\n",
      "new best elbo: -462.5359191894531\n",
      "new best elbo: -461.53887939453125\n",
      "new best elbo: -461.4224853515625\n",
      "new best elbo: -460.1002502441406\n",
      "new best elbo: -459.70843505859375\n",
      "new best elbo: -459.4884033203125\n",
      "new best elbo: -459.27801513671875\n",
      "new best elbo: -458.6831359863281\n",
      "new best elbo: -458.4217529296875\n",
      "new best elbo: -457.86798095703125\n",
      "new best elbo: -457.08087158203125\n",
      "new best elbo: -456.9406433105469\n",
      "new best elbo: -456.7578125\n",
      "new best elbo: -456.1025695800781\n",
      "new best elbo: -455.6830749511719\n",
      "new best elbo: -455.2585754394531\n",
      "new best elbo: -455.1347351074219\n",
      "new best elbo: -455.0375061035156\n",
      "new best elbo: -454.815185546875\n",
      "new best elbo: -454.416259765625\n",
      "new best elbo: -454.380615234375\n",
      "new best elbo: -454.2441101074219\n",
      "new best elbo: -454.0721435546875\n",
      "new best elbo: -454.043701171875\n",
      "new best elbo: -453.99615478515625\n",
      "new best elbo: -453.7282409667969\n"
     ]
    }
   ],
   "source": [
    "Q4 = bbvi_train(g4, T=10000, L=500, base_string=\"program-4-first-attempt\", Q=None, time_based=True, \\\n",
    "                time_T=60*60, lr=0.1, no_b=False, logging=True)"
   ]
  },
  {
   "cell_type": "code",
   "execution_count": 35,
   "id": "85de5a6f",
   "metadata": {},
   "outputs": [],
   "source": [
    "with open(\"pickles/Q4_100\", 'wb') as f:\n",
    "    pickle.dump(Q4, f)"
   ]
  },
  {
   "cell_type": "code",
   "execution_count": null,
   "id": "649df0a6",
   "metadata": {},
   "outputs": [],
   "source": []
  }
 ],
 "metadata": {
  "kernelspec": {
   "display_name": "Python 3 (ipykernel)",
   "language": "python",
   "name": "python3"
  },
  "language_info": {
   "codemirror_mode": {
    "name": "ipython",
    "version": 3
   },
   "file_extension": ".py",
   "mimetype": "text/x-python",
   "name": "python",
   "nbconvert_exporter": "python",
   "pygments_lexer": "ipython3",
   "version": "3.8.5"
  }
 },
 "nbformat": 4,
 "nbformat_minor": 5
}
