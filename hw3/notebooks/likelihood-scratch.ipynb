{
 "cells": [
  {
   "cell_type": "code",
   "execution_count": 1,
   "id": "0b2a2901",
   "metadata": {},
   "outputs": [
    {
     "ename": "ModuleNotFoundError",
     "evalue": "No module named 'likelihood_weighting'",
     "output_type": "error",
     "traceback": [
      "\u001b[0;31m---------------------------------------------------------------------------\u001b[0m",
      "\u001b[0;31mModuleNotFoundError\u001b[0m                       Traceback (most recent call last)",
      "\u001b[0;32m/var/folders/84/hh1frbdd4_13nl9fvrj3hsnr0000gn/T/ipykernel_52262/1998276666.py\u001b[0m in \u001b[0;36m<module>\u001b[0;34m\u001b[0m\n\u001b[1;32m      1\u001b[0m \u001b[0;32mimport\u001b[0m \u001b[0mjson\u001b[0m\u001b[0;34m\u001b[0m\u001b[0;34m\u001b[0m\u001b[0m\n\u001b[0;32m----> 2\u001b[0;31m \u001b[0;32mfrom\u001b[0m \u001b[0mlikelihood_weighting\u001b[0m \u001b[0;32mimport\u001b[0m \u001b[0mlikelihood_weighting_with_report\u001b[0m\u001b[0;34m\u001b[0m\u001b[0;34m\u001b[0m\u001b[0m\n\u001b[0m\u001b[1;32m      3\u001b[0m \u001b[0;32mimport\u001b[0m \u001b[0mtorch\u001b[0m\u001b[0;34m\u001b[0m\u001b[0;34m\u001b[0m\u001b[0m\n",
      "\u001b[0;31mModuleNotFoundError\u001b[0m: No module named 'likelihood_weighting'"
     ]
    }
   ],
   "source": [
    "import json\n",
    "from likelihood_weighting import likelihood_weighting_with_report\n",
    "import torch"
   ]
  },
  {
   "cell_type": "code",
   "execution_count": null,
   "id": "69cc865a",
   "metadata": {},
   "outputs": [],
   "source": [
    "f = open('asts/1.json', 'rb')\n",
    "ast = json.load(f)\n",
    "f.close()\n",
    "print(ast)"
   ]
  },
  {
   "cell_type": "code",
   "execution_count": null,
   "id": "af8ce665",
   "metadata": {},
   "outputs": [],
   "source": [
    "result = likelihood_weighting(ast, 100000)"
   ]
  },
  {
   "cell_type": "code",
   "execution_count": null,
   "id": "25002d32",
   "metadata": {},
   "outputs": [],
   "source": [
    "returns = result['returns']\n",
    "log_weights = result['log_weights']"
   ]
  },
  {
   "cell_type": "code",
   "execution_count": null,
   "id": "2445f078",
   "metadata": {},
   "outputs": [],
   "source": [
    "import torch"
   ]
  },
  {
   "cell_type": "code",
   "execution_count": null,
   "id": "2320331b",
   "metadata": {},
   "outputs": [],
   "source": [
    "returns = torch.tensor(returns)"
   ]
  },
  {
   "cell_type": "code",
   "execution_count": null,
   "id": "ffaac6ca",
   "metadata": {},
   "outputs": [],
   "source": [
    "log_weights = torch.tensor(log_weights)"
   ]
  },
  {
   "cell_type": "code",
   "execution_count": null,
   "id": "9cba70f1",
   "metadata": {},
   "outputs": [],
   "source": [
    "print(returns.size())\n",
    "print(log_weights.size())"
   ]
  },
  {
   "cell_type": "code",
   "execution_count": null,
   "id": "1a2f4f35",
   "metadata": {},
   "outputs": [],
   "source": [
    "unnormalized_weights = torch.exp(log_weights)"
   ]
  },
  {
   "cell_type": "code",
   "execution_count": null,
   "id": "2319aead",
   "metadata": {},
   "outputs": [],
   "source": [
    "normalized_weights = unnormalized_weights/torch.sum(unnormalized_weights)"
   ]
  },
  {
   "cell_type": "code",
   "execution_count": null,
   "id": "ac6814c4",
   "metadata": {},
   "outputs": [],
   "source": [
    "torch.sum(normalized_weights*returns)"
   ]
  },
  {
   "cell_type": "markdown",
   "id": "6cf8a5be",
   "metadata": {},
   "source": [
    "# Figuring out sizes"
   ]
  },
  {
   "cell_type": "code",
   "execution_count": 2,
   "id": "8753094f",
   "metadata": {},
   "outputs": [],
   "source": [
    "f = open('asts/1.json', 'rb')\n",
    "ast1 = json.load(f)\n",
    "f.close()\n",
    "#print(ast1)\n",
    "#print('\\n\\n')\n",
    "\n",
    "f = open('asts/2.json', 'rb')\n",
    "ast2 = json.load(f)\n",
    "f.close()\n",
    "#print(ast2)\n",
    "#print('\\n\\n')\n",
    "\n",
    "f = open('asts/3.json', 'rb')\n",
    "ast3 = json.load(f)\n",
    "f.close()\n",
    "#print(ast3)\n",
    "#print('\\n\\n')\n",
    "\n",
    "f = open('asts/4.json', 'rb')\n",
    "ast4 = json.load(f)\n",
    "f.close()\n",
    "#print(ast4)\n",
    "#print('\\n\\n')\n",
    "\n",
    "f = open('asts/5.json', 'rb')\n",
    "ast5 = json.load(f)\n",
    "f.close()\n",
    "#print(ast5)\n",
    "#print('\\n\\n')"
   ]
  },
  {
   "cell_type": "code",
   "execution_count": null,
   "id": "0b285cd8",
   "metadata": {},
   "outputs": [],
   "source": [
    "def likelihood_weighting_with_report(ast, L):\n",
    "    result = likelihood_weighting(ast, L)\n",
    "    returns = torch.stack(result['returns'])\n",
    "    log_weights = torch.stack(result['log_weights'])\n",
    "    unnormalized_weights = torch.exp(log_weights)\n",
    "    normalized_weights = unnormalized_weights/torch.sum(unnormalized_weights)\n",
    "    \n",
    "    if returns.dim() > 1:\n",
    "        weighted_returns = normalized_weights.unsqueeze(dim=1)*returns\n",
    "        expectations = torch.sum(weighted_returns, dim=0)\n",
    "    else:\n",
    "        weighted_returns = normalized_weights*returns\n",
    "        expectations = torch.sum(weighted_returns)\n",
    "    \n",
    "    \n",
    "    print(expectations)"
   ]
  },
  {
   "cell_type": "code",
   "execution_count": null,
   "id": "47b01d80",
   "metadata": {},
   "outputs": [],
   "source": [
    "likelihood_weighting_with_report(ast1, 100000)\n",
    "likelihood_weighting_with_report(ast2, 100000)\n",
    "likelihood_weighting_with_report(ast3, 100000)\n",
    "likelihood_weighting_with_report(ast4, 100000)"
   ]
  },
  {
   "cell_type": "code",
   "execution_count": null,
   "id": "7a811da4",
   "metadata": {},
   "outputs": [],
   "source": [
    "likelihood_weighting_with_report(ast3, 100000)"
   ]
  },
  {
   "cell_type": "code",
   "execution_count": null,
   "id": "96b38aa9",
   "metadata": {},
   "outputs": [],
   "source": [
    "likelihood_weighting_with_report(ast1, 100000)\n",
    "likelihood_weighting_with_report(ast2, 100000)\n",
    "likelihood_weighting_with_report(ast3, 100000)\n",
    "likelihood_weighting_with_report(ast4, 100000)"
   ]
  },
  {
   "cell_type": "markdown",
   "id": "50f8adbe",
   "metadata": {},
   "source": [
    "# Debugging Program 3"
   ]
  },
  {
   "cell_type": "code",
   "execution_count": null,
   "id": "deaaa743",
   "metadata": {},
   "outputs": [],
   "source": [
    "result = likelihood_weighting(ast3, 100)\n",
    "returns = torch.stack(result['returns'])\n",
    "log_weights = torch.stack(result['log_weights'])"
   ]
  },
  {
   "cell_type": "code",
   "execution_count": null,
   "id": "4fac7da4",
   "metadata": {},
   "outputs": [],
   "source": [
    "returns"
   ]
  },
  {
   "cell_type": "code",
   "execution_count": null,
   "id": "9efd1e7a",
   "metadata": {},
   "outputs": [],
   "source": [
    "likelihood_weighting_with_report(ast1, 10000)\n",
    "likelihood_weighting_with_report(ast2, 10000)\n",
    "likelihood_weighting_with_report(ast3, 10000)\n",
    "likelihood_weighting_with_report(ast4, 10000)"
   ]
  },
  {
   "cell_type": "markdown",
   "id": "b0115fd6",
   "metadata": {},
   "source": [
    "# Variances"
   ]
  },
  {
   "cell_type": "code",
   "execution_count": null,
   "id": "5caa419f",
   "metadata": {},
   "outputs": [],
   "source": [
    "from likelihood_weighting import likelihood_weighting"
   ]
  },
  {
   "cell_type": "code",
   "execution_count": null,
   "id": "c2c97c40",
   "metadata": {},
   "outputs": [],
   "source": [
    "# program 1\n",
    "result = likelihood_weighting(ast1, 10000)\n",
    "returns = torch.stack(result['returns']).float()\n",
    "log_weights = torch.stack(result['log_weights'])\n",
    "M = torch.max(log_weights)\n",
    "normalized_weights = torch.exp(log_weights - M)/torch.sum(torch.exp(log_weights - M))\n",
    "weighted_returns = normalized_weights*returns\n",
    "expectation = torch.sum(weighted_returns)\n",
    "returns_squared = returns*returns\n",
    "variance1 = torch.sum(normalized_weights*returns_squared) - expectation*expectation\n",
    "variance2 = torch.sum((returns - expectation)*(returns-expectation)*normalized_weights)\n",
    "print(variance1)\n",
    "print(variance2)"
   ]
  },
  {
   "cell_type": "code",
   "execution_count": null,
   "id": "f6d279c7",
   "metadata": {},
   "outputs": [],
   "source": [
    "# program 3\n",
    "result = likelihood_weighting(ast3, 10000)\n",
    "returns = torch.stack(result['returns']).float()\n",
    "log_weights = torch.stack(result['log_weights'])\n",
    "M = torch.max(log_weights)\n",
    "normalized_weights = torch.exp(log_weights - M)/torch.sum(torch.exp(log_weights - M))\n",
    "weighted_returns = normalized_weights*returns\n",
    "expectation = torch.sum(weighted_returns)\n",
    "variance1 = torch.sum(normalized_weights*returns*returns) - expectation*expectation\n",
    "variance2 = torch.sum((returns - expectation)*(returns-expectation)*normalized_weights)\n",
    "print(variance1)\n",
    "print(variance2)"
   ]
  },
  {
   "cell_type": "code",
   "execution_count": null,
   "id": "0468c147",
   "metadata": {},
   "outputs": [],
   "source": [
    "# program 3\n",
    "result = likelihood_weighting(ast4, 10000)\n",
    "returns = torch.stack(result['returns']).float()\n",
    "log_weights = torch.stack(result['log_weights'])\n",
    "M = torch.max(log_weights)\n",
    "normalized_weights = torch.exp(log_weights - M)/torch.sum(torch.exp(log_weights - M))\n",
    "weighted_returns = normalized_weights*returns\n",
    "expectation = torch.sum(weighted_returns)\n",
    "variance1 = torch.sum(normalized_weights*returns_squared) - expectation*expectation\n",
    "variance2 = torch.sum((returns - expectation)*(returns-expectation)*normalized_weights)\n",
    "print(variance1)\n",
    "print(variance2)"
   ]
  },
  {
   "cell_type": "markdown",
   "id": "9303eaed",
   "metadata": {},
   "source": [
    "# Covariances"
   ]
  },
  {
   "cell_type": "code",
   "execution_count": null,
   "id": "66c6e81e",
   "metadata": {},
   "outputs": [],
   "source": [
    "# program 2\n",
    "result = likelihood_weighting(ast2, 10000)\n",
    "returns = torch.stack(result['returns']).float()\n",
    "log_weights = torch.stack(result['log_weights'])\n",
    "M = torch.max(log_weights)\n",
    "normalized_weights = torch.exp(log_weights - M)/torch.sum(torch.exp(log_weights - M))"
   ]
  },
  {
   "cell_type": "code",
   "execution_count": null,
   "id": "733c0f8a",
   "metadata": {},
   "outputs": [],
   "source": [
    "if returns.dim() == 2:\n",
    "    weighted_returns = normalized_weights.unsqueeze(dim=1)*returns\n",
    "    expectation = torch.sum(weighted_returns, dim=0)"
   ]
  },
  {
   "cell_type": "code",
   "execution_count": null,
   "id": "5346fe93",
   "metadata": {},
   "outputs": [],
   "source": [
    "print(expectation)"
   ]
  },
  {
   "cell_type": "code",
   "execution_count": null,
   "id": "398db544",
   "metadata": {},
   "outputs": [],
   "source": [
    "var00 = torch.sum(normalized_weights*returns[:,0]*returns[:, 0]) - expectation[0]*expectation[0]\n",
    "print(var00)"
   ]
  },
  {
   "cell_type": "code",
   "execution_count": null,
   "id": "0c112dbb",
   "metadata": {},
   "outputs": [],
   "source": [
    "var00 = torch.sum(normalized_weights*returns[:,0]**2) - expectation[0]**2\n",
    "print(var00)"
   ]
  },
  {
   "cell_type": "code",
   "execution_count": null,
   "id": "b28ac93c",
   "metadata": {},
   "outputs": [],
   "source": [
    "var01 = torch.sum(normalized_weights*returns[:,0]*returns[:,1]) - expectation[0]*expectation[1]\n",
    "print(var01)"
   ]
  },
  {
   "cell_type": "code",
   "execution_count": null,
   "id": "63418826",
   "metadata": {},
   "outputs": [],
   "source": [
    "var01 = torch.sum(normalized_weights*(returns[:,0] - expectation[0])*(returns[:,1]-expectation[1]))\n",
    "print(var01)"
   ]
  },
  {
   "cell_type": "code",
   "execution_count": 3,
   "id": "2a68893a",
   "metadata": {},
   "outputs": [
    {
     "name": "stdout",
     "output_type": "stream",
     "text": [
      "tensor(7.3870)\n",
      "tensor(0.9173)\n",
      "tensor([ 2.1795, -0.6289])\n",
      "tensor([[ 0.0457, -0.1563],\n",
      "        [-0.1563,  0.6804]])\n",
      "tensor(0.9947)\n",
      "tensor(0.0052)\n",
      "tensor(0.3198)\n",
      "tensor(0.2175)\n"
     ]
    }
   ],
   "source": [
    "likelihood_weighting_with_report(ast1, 50000)\n",
    "likelihood_weighting_with_report(ast2, 50000)\n",
    "likelihood_weighting_with_report(ast3, 50000)\n",
    "likelihood_weighting_with_report(ast4, 50000)"
   ]
  },
  {
   "cell_type": "code",
   "execution_count": null,
   "id": "43cd8e21",
   "metadata": {},
   "outputs": [],
   "source": []
  }
 ],
 "metadata": {
  "kernelspec": {
   "display_name": "Python 3 (ipykernel)",
   "language": "python",
   "name": "python3"
  },
  "language_info": {
   "codemirror_mode": {
    "name": "ipython",
    "version": 3
   },
   "file_extension": ".py",
   "mimetype": "text/x-python",
   "name": "python",
   "nbconvert_exporter": "python",
   "pygments_lexer": "ipython3",
   "version": "3.8.5"
  }
 },
 "nbformat": 4,
 "nbformat_minor": 5
}
