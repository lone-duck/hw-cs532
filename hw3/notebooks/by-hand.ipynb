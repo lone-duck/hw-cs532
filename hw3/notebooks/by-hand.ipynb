{
 "cells": [
  {
   "cell_type": "code",
   "execution_count": 1,
   "id": "b8d0c2bd",
   "metadata": {},
   "outputs": [],
   "source": [
    "import torch"
   ]
  },
  {
   "cell_type": "code",
   "execution_count": 11,
   "id": "6914039c",
   "metadata": {},
   "outputs": [],
   "source": [
    "def sample_and_weight():\n",
    "    data = torch.tensor([1.1,2.1,2.0,1.9,0.0,-0.1, 0.05])\n",
    "    likes = [None]*3\n",
    "    mu_prior = torch.distributions.Normal(0.0, 10.0)\n",
    "    sigma_prior = torch.distributions.gamma.Gamma(1.0, 1.0)\n",
    "    for i in range(3):\n",
    "        mu = mu_prior.sample()\n",
    "        sigma = sigma_prior.sample()\n",
    "        likes[i] = torch.distributions.Normal(mu, sigma)\n",
    "    pi_prior = torch.distributions.dirichlet.Dirichlet(torch.tensor([1.0, 1.0, 1.0]))\n",
    "    pi = pi_prior.sample()\n",
    "    z_prior = torch.distributions.categorical.Categorical(pi)\n",
    "    logW = 0\n",
    "    zs = [None]*len(data)\n",
    "    for i, y in enumerate(data):\n",
    "        z = z_prior.sample()\n",
    "        zs[i] = z\n",
    "        likelihood = likes[z]\n",
    "        logW += likelihood.log_prob(y)\n",
    "    \n",
    "    return zs[0] == zs[1], logW"
   ]
  },
  {
   "cell_type": "code",
   "execution_count": 12,
   "id": "a6259d08",
   "metadata": {},
   "outputs": [
    {
     "data": {
      "text/plain": [
       "(tensor(False), tensor(-4980.4287))"
      ]
     },
     "execution_count": 12,
     "metadata": {},
     "output_type": "execute_result"
    }
   ],
   "source": [
    "sample_and_weight()"
   ]
  },
  {
   "cell_type": "code",
   "execution_count": 15,
   "id": "e2201bb2",
   "metadata": {},
   "outputs": [
    {
     "name": "stdout",
     "output_type": "stream",
     "text": [
      "tensor([1., 1., 0.,  ..., 0., 1., 0.])\n"
     ]
    }
   ],
   "source": [
    "results = torch.zeros(100000)\n",
    "log_weights = torch.zeros(100000)\n",
    "\n",
    "for i in range(100000):\n",
    "    results[i], log_weights[i] = sample_and_weight()\n",
    "    \n",
    "print(results)"
   ]
  },
  {
   "cell_type": "code",
   "execution_count": 16,
   "id": "ec750de9",
   "metadata": {},
   "outputs": [
    {
     "name": "stdout",
     "output_type": "stream",
     "text": [
      "tensor(0.6238)\n",
      "torch.Size([15687, 1])\n"
     ]
    }
   ],
   "source": [
    "M = torch.max(log_weights)\n",
    "nrm_wghts = torch.exp(log_weights-M)/torch.sum(torch.exp(log_weights-M))\n",
    "expectation = torch.sum(nrm_wghts*results)\n",
    "print(expectation)\n",
    "print(torch.nonzero(nrm_wghts).size())"
   ]
  },
  {
   "cell_type": "code",
   "execution_count": null,
   "id": "2680c2b8",
   "metadata": {},
   "outputs": [],
   "source": []
  }
 ],
 "metadata": {
  "kernelspec": {
   "display_name": "Python 3 (ipykernel)",
   "language": "python",
   "name": "python3"
  },
  "language_info": {
   "codemirror_mode": {
    "name": "ipython",
    "version": 3
   },
   "file_extension": ".py",
   "mimetype": "text/x-python",
   "name": "python",
   "nbconvert_exporter": "python",
   "pygments_lexer": "ipython3",
   "version": "3.8.5"
  }
 },
 "nbformat": 4,
 "nbformat_minor": 5
}
