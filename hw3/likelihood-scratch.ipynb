{
 "cells": [
  {
   "cell_type": "code",
   "execution_count": 1,
   "id": "0b2a2901",
   "metadata": {},
   "outputs": [],
   "source": [
    "import json\n",
    "from likelihood_weighting import likelihood_weighting_with_report\n",
    "import torch"
   ]
  },
  {
   "cell_type": "code",
   "execution_count": null,
   "id": "69cc865a",
   "metadata": {},
   "outputs": [],
   "source": [
    "f = open('asts/1.json', 'rb')\n",
    "ast = json.load(f)\n",
    "f.close()\n",
    "print(ast)"
   ]
  },
  {
   "cell_type": "code",
   "execution_count": null,
   "id": "af8ce665",
   "metadata": {},
   "outputs": [],
   "source": [
    "result = likelihood_weighting(ast, 100000)"
   ]
  },
  {
   "cell_type": "code",
   "execution_count": null,
   "id": "25002d32",
   "metadata": {},
   "outputs": [],
   "source": [
    "returns = result['returns']\n",
    "log_weights = result['log_weights']"
   ]
  },
  {
   "cell_type": "code",
   "execution_count": null,
   "id": "2445f078",
   "metadata": {},
   "outputs": [],
   "source": [
    "import torch"
   ]
  },
  {
   "cell_type": "code",
   "execution_count": null,
   "id": "2320331b",
   "metadata": {},
   "outputs": [],
   "source": [
    "returns = torch.tensor(returns)"
   ]
  },
  {
   "cell_type": "code",
   "execution_count": null,
   "id": "ffaac6ca",
   "metadata": {},
   "outputs": [],
   "source": [
    "log_weights = torch.tensor(log_weights)"
   ]
  },
  {
   "cell_type": "code",
   "execution_count": null,
   "id": "9cba70f1",
   "metadata": {},
   "outputs": [],
   "source": [
    "print(returns.size())\n",
    "print(log_weights.size())"
   ]
  },
  {
   "cell_type": "code",
   "execution_count": null,
   "id": "1a2f4f35",
   "metadata": {},
   "outputs": [],
   "source": [
    "unnormalized_weights = torch.exp(log_weights)"
   ]
  },
  {
   "cell_type": "code",
   "execution_count": null,
   "id": "2319aead",
   "metadata": {},
   "outputs": [],
   "source": [
    "normalized_weights = unnormalized_weights/torch.sum(unnormalized_weights)"
   ]
  },
  {
   "cell_type": "code",
   "execution_count": null,
   "id": "ac6814c4",
   "metadata": {},
   "outputs": [],
   "source": [
    "torch.sum(normalized_weights*returns)"
   ]
  },
  {
   "cell_type": "markdown",
   "id": "6cf8a5be",
   "metadata": {},
   "source": [
    "# Figuring out sizes"
   ]
  },
  {
   "cell_type": "code",
   "execution_count": 2,
   "id": "8753094f",
   "metadata": {},
   "outputs": [],
   "source": [
    "f = open('asts/1.json', 'rb')\n",
    "ast1 = json.load(f)\n",
    "f.close()\n",
    "#print(ast1)\n",
    "#print('\\n\\n')\n",
    "\n",
    "f = open('asts/2.json', 'rb')\n",
    "ast2 = json.load(f)\n",
    "f.close()\n",
    "#print(ast2)\n",
    "#print('\\n\\n')\n",
    "\n",
    "f = open('asts/3.json', 'rb')\n",
    "ast3 = json.load(f)\n",
    "f.close()\n",
    "#print(ast3)\n",
    "#print('\\n\\n')\n",
    "\n",
    "f = open('asts/4.json', 'rb')\n",
    "ast4 = json.load(f)\n",
    "f.close()\n",
    "#print(ast4)\n",
    "#print('\\n\\n')\n",
    "\n",
    "f = open('asts/5.json', 'rb')\n",
    "ast5 = json.load(f)\n",
    "f.close()\n",
    "#print(ast5)\n",
    "#print('\\n\\n')"
   ]
  },
  {
   "cell_type": "code",
   "execution_count": null,
   "id": "0b285cd8",
   "metadata": {},
   "outputs": [],
   "source": [
    "def likelihood_weighting_with_report(ast, L):\n",
    "    result = likelihood_weighting(ast, L)\n",
    "    returns = torch.stack(result['returns'])\n",
    "    log_weights = torch.stack(result['log_weights'])\n",
    "    unnormalized_weights = torch.exp(log_weights)\n",
    "    normalized_weights = unnormalized_weights/torch.sum(unnormalized_weights)\n",
    "    \n",
    "    if returns.dim() > 1:\n",
    "        weighted_returns = normalized_weights.unsqueeze(dim=1)*returns\n",
    "        expectations = torch.sum(weighted_returns, dim=0)\n",
    "    else:\n",
    "        weighted_returns = normalized_weights*returns\n",
    "        expectations = torch.sum(weighted_returns)\n",
    "    \n",
    "    \n",
    "    print(expectations)"
   ]
  },
  {
   "cell_type": "code",
   "execution_count": null,
   "id": "47b01d80",
   "metadata": {},
   "outputs": [],
   "source": [
    "likelihood_weighting_with_report(ast1, 100000)\n",
    "likelihood_weighting_with_report(ast2, 100000)\n",
    "likelihood_weighting_with_report(ast3, 100000)\n",
    "likelihood_weighting_with_report(ast4, 100000)"
   ]
  },
  {
   "cell_type": "code",
   "execution_count": null,
   "id": "7a811da4",
   "metadata": {},
   "outputs": [],
   "source": [
    "likelihood_weighting_with_report(ast3, 100000)"
   ]
  },
  {
   "cell_type": "code",
   "execution_count": null,
   "id": "1a4e3b90",
   "metadata": {},
   "outputs": [],
   "source": [
    "likelihood_weighting_with_report(ast1, 100000)\n",
    "likelihood_weighting_with_report(ast2, 100000)\n",
    "likelihood_weighting_with_report(ast3, 100000)\n",
    "likelihood_weighting_with_report(ast4, 100000)"
   ]
  },
  {
   "cell_type": "markdown",
   "id": "8e2e8384",
   "metadata": {},
   "source": [
    "# Debugging Program 3"
   ]
  },
  {
   "cell_type": "code",
   "execution_count": null,
   "id": "f54b7d11",
   "metadata": {},
   "outputs": [],
   "source": [
    "result = likelihood_weighting(ast3, 100)\n",
    "returns = torch.stack(result['returns'])\n",
    "log_weights = torch.stack(result['log_weights'])"
   ]
  },
  {
   "cell_type": "code",
   "execution_count": null,
   "id": "ea8cd03f",
   "metadata": {},
   "outputs": [],
   "source": [
    "returns"
   ]
  },
  {
   "cell_type": "code",
   "execution_count": 4,
   "id": "248c211d",
   "metadata": {},
   "outputs": [
    {
     "name": "stdout",
     "output_type": "stream",
     "text": [
      "tensor(7.3893)\n",
      "tensor([ 2.1591, -0.5103])\n",
      "tensor(0.9445)\n",
      "tensor(0.3232)\n"
     ]
    }
   ],
   "source": [
    "likelihood_weighting_with_report(ast1, 10000)\n",
    "likelihood_weighting_with_report(ast2, 10000)\n",
    "likelihood_weighting_with_report(ast3, 10000)\n",
    "likelihood_weighting_with_report(ast4, 10000)"
   ]
  },
  {
   "cell_type": "code",
   "execution_count": null,
   "id": "f41b213c",
   "metadata": {},
   "outputs": [],
   "source": []
  }
 ],
 "metadata": {
  "kernelspec": {
   "display_name": "Python 3 (ipykernel)",
   "language": "python",
   "name": "python3"
  },
  "language_info": {
   "codemirror_mode": {
    "name": "ipython",
    "version": 3
   },
   "file_extension": ".py",
   "mimetype": "text/x-python",
   "name": "python",
   "nbconvert_exporter": "python",
   "pygments_lexer": "ipython3",
   "version": "3.8.5"
  }
 },
 "nbformat": 4,
 "nbformat_minor": 5
}
